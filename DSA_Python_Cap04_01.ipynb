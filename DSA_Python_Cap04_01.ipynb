{
  "nbformat": 4,
  "nbformat_minor": 0,
  "metadata": {
    "colab": {
      "name": "DSA_Python_Cap04_01.ipynb",
      "provenance": [],
      "authorship_tag": "ABX9TyMB9YDJVZyhBMfEXw7ifMuI",
      "include_colab_link": true
    },
    "kernelspec": {
      "name": "python3",
      "display_name": "Python 3"
    }
  },
  "cells": [
    {
      "cell_type": "markdown",
      "metadata": {
        "id": "view-in-github",
        "colab_type": "text"
      },
      "source": [
        "<a href=\"https://colab.research.google.com/github/julianovale/PythonFundamentosDSA/blob/main/DSA_Python_Cap04_01.ipynb\" target=\"_parent\"><img src=\"https://colab.research.google.com/assets/colab-badge.svg\" alt=\"Open In Colab\"/></a>"
      ]
    },
    {
      "cell_type": "code",
      "metadata": {
        "colab": {
          "base_uri": "https://localhost:8080/"
        },
        "id": "l12Gpi5U1VA9",
        "outputId": "ce33b9e7-8f51-46e0-ed51-7b8c1588f2da"
      },
      "source": [
        "%%writefile teste.txt\r\n",
        "testando 1,2,3"
      ],
      "execution_count": 1,
      "outputs": [
        {
          "output_type": "stream",
          "text": [
            "Writing teste.txt\n"
          ],
          "name": "stdout"
        }
      ]
    },
    {
      "cell_type": "code",
      "metadata": {
        "colab": {
          "base_uri": "https://localhost:8080/",
          "height": 35
        },
        "id": "yBUwWY-H1-_f",
        "outputId": "b834d512-6a31-4ce0-81f8-863679f89b81"
      },
      "source": [
        "arq4 = open('teste.txt','r')\r\n",
        "arq4.read()"
      ],
      "execution_count": 5,
      "outputs": [
        {
          "output_type": "execute_result",
          "data": {
            "application/vnd.google.colaboratory.intrinsic+json": {
              "type": "string"
            },
            "text/plain": [
              "'testando 1,2,3'"
            ]
          },
          "metadata": {
            "tags": []
          },
          "execution_count": 5
        }
      ]
    },
    {
      "cell_type": "code",
      "metadata": {
        "id": "4TniamUg2nU9"
      },
      "source": [
        "import pandas as pd"
      ],
      "execution_count": 6,
      "outputs": []
    },
    {
      "cell_type": "code",
      "metadata": {
        "colab": {
          "base_uri": "https://localhost:8080/",
          "height": 197
        },
        "id": "Ov8iTVXi2paN",
        "outputId": "3fd7e74c-677f-470b-9660-e24434eaf3dd"
      },
      "source": [
        "df = pd.read_csv('https://raw.githubusercontent.com/julianovale/PythonFundamentosDSA/main/arquivos/binary.csv')\r\n",
        "df"
      ],
      "execution_count": 8,
      "outputs": [
        {
          "output_type": "execute_result",
          "data": {
            "text/html": [
              "<div>\n",
              "<style scoped>\n",
              "    .dataframe tbody tr th:only-of-type {\n",
              "        vertical-align: middle;\n",
              "    }\n",
              "\n",
              "    .dataframe tbody tr th {\n",
              "        vertical-align: top;\n",
              "    }\n",
              "\n",
              "    .dataframe thead th {\n",
              "        text-align: right;\n",
              "    }\n",
              "</style>\n",
              "<table border=\"1\" class=\"dataframe\">\n",
              "  <thead>\n",
              "    <tr style=\"text-align: right;\">\n",
              "      <th></th>\n",
              "      <th>admit</th>\n",
              "      <th>gre</th>\n",
              "      <th>gpa</th>\n",
              "      <th>rank</th>\n",
              "    </tr>\n",
              "  </thead>\n",
              "  <tbody>\n",
              "    <tr>\n",
              "      <th>0</th>\n",
              "      <td>0</td>\n",
              "      <td>380</td>\n",
              "      <td>3.61</td>\n",
              "      <td>3</td>\n",
              "    </tr>\n",
              "    <tr>\n",
              "      <th>1</th>\n",
              "      <td>1</td>\n",
              "      <td>660</td>\n",
              "      <td>3.67</td>\n",
              "      <td>3</td>\n",
              "    </tr>\n",
              "    <tr>\n",
              "      <th>2</th>\n",
              "      <td>1</td>\n",
              "      <td>880</td>\n",
              "      <td>4.00</td>\n",
              "      <td>1</td>\n",
              "    </tr>\n",
              "    <tr>\n",
              "      <th>3</th>\n",
              "      <td>1</td>\n",
              "      <td>640</td>\n",
              "      <td>3.19</td>\n",
              "      <td>4</td>\n",
              "    </tr>\n",
              "    <tr>\n",
              "      <th>4</th>\n",
              "      <td>0</td>\n",
              "      <td>520</td>\n",
              "      <td>2.93</td>\n",
              "      <td>4</td>\n",
              "    </tr>\n",
              "  </tbody>\n",
              "</table>\n",
              "</div>"
            ],
            "text/plain": [
              "   admit  gre   gpa  rank\n",
              "0      0  380  3.61     3\n",
              "1      1  660  3.67     3\n",
              "2      1  880  4.00     1\n",
              "3      1  640  3.19     4\n",
              "4      0  520  2.93     4"
            ]
          },
          "metadata": {
            "tags": []
          },
          "execution_count": 8
        }
      ]
    },
    {
      "cell_type": "code",
      "metadata": {
        "colab": {
          "base_uri": "https://localhost:8080/",
          "height": 406
        },
        "id": "aRkEGBN73O_u",
        "outputId": "c8a77161-41d9-4772-9517-a2b524872f1f"
      },
      "source": [
        "df2 = pd.read_csv('https://raw.githubusercontent.com/julianovale/PythonFundamentosDSA/main/arquivos/salarios.csv')\r\n",
        "df2"
      ],
      "execution_count": 9,
      "outputs": [
        {
          "output_type": "execute_result",
          "data": {
            "text/html": [
              "<div>\n",
              "<style scoped>\n",
              "    .dataframe tbody tr th:only-of-type {\n",
              "        vertical-align: middle;\n",
              "    }\n",
              "\n",
              "    .dataframe tbody tr th {\n",
              "        vertical-align: top;\n",
              "    }\n",
              "\n",
              "    .dataframe thead th {\n",
              "        text-align: right;\n",
              "    }\n",
              "</style>\n",
              "<table border=\"1\" class=\"dataframe\">\n",
              "  <thead>\n",
              "    <tr style=\"text-align: right;\">\n",
              "      <th></th>\n",
              "      <th>Name</th>\n",
              "      <th>Position Title</th>\n",
              "      <th>Department</th>\n",
              "      <th>Employee Annual Salary</th>\n",
              "    </tr>\n",
              "  </thead>\n",
              "  <tbody>\n",
              "    <tr>\n",
              "      <th>0</th>\n",
              "      <td>AARON,  ELVIA J</td>\n",
              "      <td>WATER RATE TAKER</td>\n",
              "      <td>WATER MGMNT</td>\n",
              "      <td>$88967.00</td>\n",
              "    </tr>\n",
              "    <tr>\n",
              "      <th>1</th>\n",
              "      <td>AARON,  JEFFERY M</td>\n",
              "      <td>POLICE OFFICER</td>\n",
              "      <td>POLICE</td>\n",
              "      <td>$80778.00</td>\n",
              "    </tr>\n",
              "    <tr>\n",
              "      <th>2</th>\n",
              "      <td>AARON,  KARINA</td>\n",
              "      <td>POLICE OFFICER</td>\n",
              "      <td>POLICE</td>\n",
              "      <td>$80778.00</td>\n",
              "    </tr>\n",
              "    <tr>\n",
              "      <th>3</th>\n",
              "      <td>AARON,  KIMBERLEI R</td>\n",
              "      <td>CHIEF CONTRACT EXPEDITER</td>\n",
              "      <td>GENERAL SERVICES</td>\n",
              "      <td>$84780.00</td>\n",
              "    </tr>\n",
              "    <tr>\n",
              "      <th>4</th>\n",
              "      <td>ABAD JR,  VICENTE M</td>\n",
              "      <td>CIVIL ENGINEER IV</td>\n",
              "      <td>WATER MGMNT</td>\n",
              "      <td>$104736.00</td>\n",
              "    </tr>\n",
              "    <tr>\n",
              "      <th>...</th>\n",
              "      <td>...</td>\n",
              "      <td>...</td>\n",
              "      <td>...</td>\n",
              "      <td>...</td>\n",
              "    </tr>\n",
              "    <tr>\n",
              "      <th>32177</th>\n",
              "      <td>ZYGOWICZ,  PETER J</td>\n",
              "      <td>POLICE OFFICER</td>\n",
              "      <td>POLICE</td>\n",
              "      <td>$86520.00</td>\n",
              "    </tr>\n",
              "    <tr>\n",
              "      <th>32178</th>\n",
              "      <td>ZYMANTAS,  MARK E</td>\n",
              "      <td>POLICE OFFICER</td>\n",
              "      <td>POLICE</td>\n",
              "      <td>$83616.00</td>\n",
              "    </tr>\n",
              "    <tr>\n",
              "      <th>32179</th>\n",
              "      <td>ZYRKOWSKI,  CARLO E</td>\n",
              "      <td>POLICE OFFICER</td>\n",
              "      <td>POLICE</td>\n",
              "      <td>$86520.00</td>\n",
              "    </tr>\n",
              "    <tr>\n",
              "      <th>32180</th>\n",
              "      <td>ZYSKOWSKI,  DARIUSZ</td>\n",
              "      <td>CHIEF DATA BASE ANALYST</td>\n",
              "      <td>DoIT</td>\n",
              "      <td>$110352.00</td>\n",
              "    </tr>\n",
              "    <tr>\n",
              "      <th>32181</th>\n",
              "      <td>NaN</td>\n",
              "      <td>NaN</td>\n",
              "      <td>NaN</td>\n",
              "      <td>NaN</td>\n",
              "    </tr>\n",
              "  </tbody>\n",
              "</table>\n",
              "<p>32182 rows × 4 columns</p>\n",
              "</div>"
            ],
            "text/plain": [
              "                      Name  ... Employee Annual Salary\n",
              "0          AARON,  ELVIA J  ...              $88967.00\n",
              "1        AARON,  JEFFERY M  ...              $80778.00\n",
              "2           AARON,  KARINA  ...              $80778.00\n",
              "3      AARON,  KIMBERLEI R  ...              $84780.00\n",
              "4      ABAD JR,  VICENTE M  ...             $104736.00\n",
              "...                    ...  ...                    ...\n",
              "32177   ZYGOWICZ,  PETER J  ...              $86520.00\n",
              "32178    ZYMANTAS,  MARK E  ...              $83616.00\n",
              "32179  ZYRKOWSKI,  CARLO E  ...              $86520.00\n",
              "32180  ZYSKOWSKI,  DARIUSZ  ...             $110352.00\n",
              "32181                  NaN  ...                    NaN\n",
              "\n",
              "[32182 rows x 4 columns]"
            ]
          },
          "metadata": {
            "tags": []
          },
          "execution_count": 9
        }
      ]
    }
  ]
}