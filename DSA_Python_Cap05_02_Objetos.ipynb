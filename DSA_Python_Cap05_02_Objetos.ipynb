{
  "nbformat": 4,
  "nbformat_minor": 0,
  "metadata": {
    "kernelspec": {
      "display_name": "Python 3",
      "language": "python",
      "name": "python3"
    },
    "language_info": {
      "codemirror_mode": {
        "name": "ipython",
        "version": 3
      },
      "file_extension": ".py",
      "mimetype": "text/x-python",
      "name": "python",
      "nbconvert_exporter": "python",
      "pygments_lexer": "ipython3",
      "version": "3.7.6"
    },
    "colab": {
      "name": "DSA-Python-Cap05-02-Objetos.ipynb",
      "provenance": [],
      "include_colab_link": true
    }
  },
  "cells": [
    {
      "cell_type": "markdown",
      "metadata": {
        "id": "view-in-github",
        "colab_type": "text"
      },
      "source": [
        "<a href=\"https://colab.research.google.com/github/julianovale/PythonFundamentosDSA/blob/main/DSA_Python_Cap05_02_Objetos.ipynb\" target=\"_parent\"><img src=\"https://colab.research.google.com/assets/colab-badge.svg\" alt=\"Open In Colab\"/></a>"
      ]
    },
    {
      "cell_type": "markdown",
      "metadata": {
        "id": "kBaP76-mZCre"
      },
      "source": [
        "# <font color='blue'>Data Science Academy - Python Fundamentos - Capítulo 5</font>\n",
        "\n",
        "## Download: http://github.com/dsacademybr"
      ]
    },
    {
      "cell_type": "code",
      "metadata": {
        "colab": {
          "base_uri": "https://localhost:8080/"
        },
        "id": "JBWK1CdPZCrt",
        "outputId": "9f54530f-d2d4-459a-c36d-ae4ab98239ef"
      },
      "source": [
        "# Versão da Linguagem Python\n",
        "from platform import python_version\n",
        "print('Versão da Linguagem Python Usada Neste Jupyter Notebook:', python_version())"
      ],
      "execution_count": 1,
      "outputs": [
        {
          "output_type": "stream",
          "text": [
            "Versão da Linguagem Python Usada Neste Jupyter Notebook: 3.7.10\n"
          ],
          "name": "stdout"
        }
      ]
    },
    {
      "cell_type": "markdown",
      "metadata": {
        "id": "k3kCdi8gZCrv"
      },
      "source": [
        "## Objetos"
      ]
    },
    {
      "cell_type": "markdown",
      "metadata": {
        "id": "DagiI9NuZCrx"
      },
      "source": [
        "Em Python, tudo é objeto!"
      ]
    },
    {
      "cell_type": "code",
      "metadata": {
        "id": "42DwC2RGZCry"
      },
      "source": [
        "# Criando uma lista\n",
        "lst_num = [\"Data\", \"Science\", \"Academy\", \"Nota\", 10, 10]"
      ],
      "execution_count": 2,
      "outputs": []
    },
    {
      "cell_type": "code",
      "metadata": {
        "colab": {
          "base_uri": "https://localhost:8080/"
        },
        "id": "GQqeqsIYZCry",
        "outputId": "05fa76bf-bf02-4e7c-aca1-72977c78f8e2"
      },
      "source": [
        "# A lista lst_num é um objeto, uma instância da classe lista em Python\n",
        "type(lst_num)"
      ],
      "execution_count": 3,
      "outputs": [
        {
          "output_type": "execute_result",
          "data": {
            "text/plain": [
              "list"
            ]
          },
          "metadata": {
            "tags": []
          },
          "execution_count": 3
        }
      ]
    },
    {
      "cell_type": "code",
      "metadata": {
        "colab": {
          "base_uri": "https://localhost:8080/"
        },
        "id": "QkCKmg-EZCr9",
        "outputId": "88bc30e7-f8cf-4f06-d801-80f9c22a853f"
      },
      "source": [
        "lst_num.count(10)"
      ],
      "execution_count": 4,
      "outputs": [
        {
          "output_type": "execute_result",
          "data": {
            "text/plain": [
              "2"
            ]
          },
          "metadata": {
            "tags": []
          },
          "execution_count": 4
        }
      ]
    },
    {
      "cell_type": "code",
      "metadata": {
        "colab": {
          "base_uri": "https://localhost:8080/"
        },
        "id": "lNUQt6gzZCr-",
        "outputId": "3b720726-b035-43b3-acbb-8d2dd08b69a5"
      },
      "source": [
        "# Usamos a função type, para verificar o tipo de um objeto\n",
        "print(type(10))\n",
        "print(type([]))\n",
        "print(type(()))\n",
        "print(type({}))\n",
        "print(type('a'))"
      ],
      "execution_count": 5,
      "outputs": [
        {
          "output_type": "stream",
          "text": [
            "<class 'int'>\n",
            "<class 'list'>\n",
            "<class 'tuple'>\n",
            "<class 'dict'>\n",
            "<class 'str'>\n"
          ],
          "name": "stdout"
        }
      ]
    },
    {
      "cell_type": "code",
      "metadata": {
        "colab": {
          "base_uri": "https://localhost:8080/"
        },
        "id": "dTxR0GV_ZCsC",
        "outputId": "c04ce6e2-8151-4585-e210-91b04e5c1212"
      },
      "source": [
        "# Criando um novo tipo de objeto chamado Carro\n",
        "class Carro(object):\n",
        "    pass\n",
        "\n",
        "# Instância do Carro\n",
        "palio = Carro()\n",
        "\n",
        "print(type(palio))"
      ],
      "execution_count": 6,
      "outputs": [
        {
          "output_type": "stream",
          "text": [
            "<class '__main__.Carro'>\n"
          ],
          "name": "stdout"
        }
      ]
    },
    {
      "cell_type": "code",
      "metadata": {
        "colab": {
          "base_uri": "https://localhost:8080/"
        },
        "id": "VGBCTcZjaY7P",
        "outputId": "9219f646-f78d-4a19-e212-8c8fc2e8ee1f"
      },
      "source": [
        "palio"
      ],
      "execution_count": 7,
      "outputs": [
        {
          "output_type": "execute_result",
          "data": {
            "text/plain": [
              "<__main__.Carro at 0x7f26e64173d0>"
            ]
          },
          "metadata": {
            "tags": []
          },
          "execution_count": 7
        }
      ]
    },
    {
      "cell_type": "code",
      "metadata": {
        "id": "nNXifsElZCsJ"
      },
      "source": [
        "# Criando uma classe\n",
        "class Estudantes:\n",
        "    def __init__(self, nome, idade, nota):\n",
        "        self.nome = nome\n",
        "        self.idade = idade\n",
        "        self.nota = nota"
      ],
      "execution_count": 8,
      "outputs": []
    },
    {
      "cell_type": "code",
      "metadata": {
        "id": "sIXEknjuZCsK"
      },
      "source": [
        "# Criando um objeto chamado Estudante1 a partir da classe Estudantes\n",
        "Estudante1 = Estudantes(\"Pele\", 12, 9.5)"
      ],
      "execution_count": 9,
      "outputs": []
    },
    {
      "cell_type": "code",
      "metadata": {
        "colab": {
          "base_uri": "https://localhost:8080/",
          "height": 35
        },
        "id": "lEXJw9P-ZCsK",
        "outputId": "aa94255f-950e-45bf-f281-bd6f3fb905aa"
      },
      "source": [
        "# Atributo da classe Estudante, utilizado por cada objeto criado a partir desta classe\n",
        "Estudante1.nome"
      ],
      "execution_count": 10,
      "outputs": [
        {
          "output_type": "execute_result",
          "data": {
            "application/vnd.google.colaboratory.intrinsic+json": {
              "type": "string"
            },
            "text/plain": [
              "'Pele'"
            ]
          },
          "metadata": {
            "tags": []
          },
          "execution_count": 10
        }
      ]
    },
    {
      "cell_type": "code",
      "metadata": {
        "colab": {
          "base_uri": "https://localhost:8080/"
        },
        "id": "SqXbwi9aZCsM",
        "outputId": "39fccbe6-385b-49ce-86f2-bf12c2a15230"
      },
      "source": [
        "# Atributo da classe Estudante, utilizado por cada objeto criado a partir desta classe\n",
        "Estudante1.idade"
      ],
      "execution_count": 11,
      "outputs": [
        {
          "output_type": "execute_result",
          "data": {
            "text/plain": [
              "12"
            ]
          },
          "metadata": {
            "tags": []
          },
          "execution_count": 11
        }
      ]
    },
    {
      "cell_type": "code",
      "metadata": {
        "colab": {
          "base_uri": "https://localhost:8080/"
        },
        "id": "7yagiCNPZCsO",
        "outputId": "0547bacb-f044-422d-de5b-bf8ad9a8c2f8"
      },
      "source": [
        "# Atributo da classe Estudante, utilizado por cada objeto criado a partir desta classe\n",
        "Estudante1.nota"
      ],
      "execution_count": 12,
      "outputs": [
        {
          "output_type": "execute_result",
          "data": {
            "text/plain": [
              "9.5"
            ]
          },
          "metadata": {
            "tags": []
          },
          "execution_count": 12
        }
      ]
    },
    {
      "cell_type": "code",
      "metadata": {
        "id": "G_xVeJ3UZCsR"
      },
      "source": [
        "# Criando uma classe\n",
        "class Funcionarios:\n",
        "    def __init__(self, nome, salario):\n",
        "        self.nome = nome\n",
        "        self.salario = salario\n",
        "\n",
        "    def listFunc(self):\n",
        "        print(\"O nome do funcionário é \" + self.nome + \" e o salário é R$\" + str(self.salario))"
      ],
      "execution_count": 13,
      "outputs": []
    },
    {
      "cell_type": "code",
      "metadata": {
        "id": "GzBTqpB6ZCsS"
      },
      "source": [
        "# Criando um objeto chamado Func1 a partir da classe Funcionarios\n",
        "Func1 = Funcionarios(\"Obama\", 20000)"
      ],
      "execution_count": 14,
      "outputs": []
    },
    {
      "cell_type": "code",
      "metadata": {
        "colab": {
          "base_uri": "https://localhost:8080/"
        },
        "id": "BsnDmjH1ZCsT",
        "outputId": "01d56980-1bab-4997-8e87-ed44c168ff96"
      },
      "source": [
        "# Usando o método da classe\n",
        "Func1.listFunc()"
      ],
      "execution_count": 15,
      "outputs": [
        {
          "output_type": "stream",
          "text": [
            "O nome do funcionário é Obama e o salário é R$20000\n"
          ],
          "name": "stdout"
        }
      ]
    },
    {
      "cell_type": "code",
      "metadata": {
        "colab": {
          "base_uri": "https://localhost:8080/"
        },
        "id": "w7QU0Ak1ZCsT",
        "outputId": "67ed1afd-e1aa-4312-d1ed-3a0e569783bf"
      },
      "source": [
        "print(\"**** Usando atributos *****\")"
      ],
      "execution_count": 16,
      "outputs": [
        {
          "output_type": "stream",
          "text": [
            "**** Usando atributos *****\n"
          ],
          "name": "stdout"
        }
      ]
    },
    {
      "cell_type": "code",
      "metadata": {
        "colab": {
          "base_uri": "https://localhost:8080/"
        },
        "id": "yAFWBqKgZCsU",
        "outputId": "1c4da7d0-a741-425a-8ded-c3ea51f9aeb6"
      },
      "source": [
        "hasattr(Func1, \"nome\")"
      ],
      "execution_count": 17,
      "outputs": [
        {
          "output_type": "execute_result",
          "data": {
            "text/plain": [
              "True"
            ]
          },
          "metadata": {
            "tags": []
          },
          "execution_count": 17
        }
      ]
    },
    {
      "cell_type": "code",
      "metadata": {
        "colab": {
          "base_uri": "https://localhost:8080/"
        },
        "id": "plIYKH2WZCsZ",
        "outputId": "93e544ff-c98f-43cc-f3a7-ea355818a0dd"
      },
      "source": [
        "hasattr(Func1, \"salario\")"
      ],
      "execution_count": 18,
      "outputs": [
        {
          "output_type": "execute_result",
          "data": {
            "text/plain": [
              "True"
            ]
          },
          "metadata": {
            "tags": []
          },
          "execution_count": 18
        }
      ]
    },
    {
      "cell_type": "code",
      "metadata": {
        "id": "yGhWYEt-ZCsa"
      },
      "source": [
        "setattr(Func1, \"salario\", 4500)"
      ],
      "execution_count": 19,
      "outputs": []
    },
    {
      "cell_type": "code",
      "metadata": {
        "colab": {
          "base_uri": "https://localhost:8080/"
        },
        "id": "4of4s9-cZCsb",
        "outputId": "14418fc0-1c63-4e98-a920-8a1b5a28571c"
      },
      "source": [
        "hasattr(Func1, \"salario\")"
      ],
      "execution_count": 20,
      "outputs": [
        {
          "output_type": "execute_result",
          "data": {
            "text/plain": [
              "True"
            ]
          },
          "metadata": {
            "tags": []
          },
          "execution_count": 20
        }
      ]
    },
    {
      "cell_type": "code",
      "metadata": {
        "colab": {
          "base_uri": "https://localhost:8080/"
        },
        "id": "KJDpJ3gpZCsc",
        "outputId": "e78cd51d-79ad-46b7-c9d1-6ce324a6b309"
      },
      "source": [
        "getattr(Func1, \"salario\")"
      ],
      "execution_count": 21,
      "outputs": [
        {
          "output_type": "execute_result",
          "data": {
            "text/plain": [
              "4500"
            ]
          },
          "metadata": {
            "tags": []
          },
          "execution_count": 21
        }
      ]
    },
    {
      "cell_type": "code",
      "metadata": {
        "id": "9jQ2vzQ1ZCsd"
      },
      "source": [
        "delattr(Func1, \"salario\")"
      ],
      "execution_count": 22,
      "outputs": []
    },
    {
      "cell_type": "code",
      "metadata": {
        "colab": {
          "base_uri": "https://localhost:8080/"
        },
        "id": "hNdmXsLXZCse",
        "outputId": "89ae2690-1894-4c27-dd21-a5ec940d3074"
      },
      "source": [
        "hasattr(Func1, \"salario\")"
      ],
      "execution_count": 23,
      "outputs": [
        {
          "output_type": "execute_result",
          "data": {
            "text/plain": [
              "False"
            ]
          },
          "metadata": {
            "tags": []
          },
          "execution_count": 23
        }
      ]
    },
    {
      "cell_type": "markdown",
      "metadata": {
        "id": "elzF30ZwZCsf"
      },
      "source": [
        "# Fim"
      ]
    },
    {
      "cell_type": "markdown",
      "metadata": {
        "id": "toYlddR4ZCsg"
      },
      "source": [
        "### Obrigado - Data Science Academy - <a href=\"http://facebook.com/dsacademybr\">facebook.com/dsacademybr</a>"
      ]
    }
  ]
}