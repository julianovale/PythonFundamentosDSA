{
  "nbformat": 4,
  "nbformat_minor": 0,
  "metadata": {
    "kernelspec": {
      "display_name": "Python 3",
      "language": "python",
      "name": "python3"
    },
    "language_info": {
      "codemirror_mode": {
        "name": "ipython",
        "version": 3
      },
      "file_extension": ".py",
      "mimetype": "text/x-python",
      "name": "python",
      "nbconvert_exporter": "python",
      "pygments_lexer": "ipython3",
      "version": "3.7.6"
    },
    "colab": {
      "name": "DSA-Python-Cap03-03-While.ipynb",
      "provenance": [],
      "include_colab_link": true
    }
  },
  "cells": [
    {
      "cell_type": "markdown",
      "metadata": {
        "id": "view-in-github",
        "colab_type": "text"
      },
      "source": [
        "<a href=\"https://colab.research.google.com/github/julianovale/PythonFundamentosDSA/blob/main/DSA_Python_Cap03_03_While.ipynb\" target=\"_parent\"><img src=\"https://colab.research.google.com/assets/colab-badge.svg\" alt=\"Open In Colab\"/></a>"
      ]
    },
    {
      "cell_type": "markdown",
      "metadata": {
        "id": "8MUDjWfI8EZ9"
      },
      "source": [
        "# <font color='blue'>Data Science Academy - Python Fundamentos - Capítulo 3</font>\n",
        "\n",
        "## Download: http://github.com/dsacademybr"
      ]
    },
    {
      "cell_type": "code",
      "metadata": {
        "colab": {
          "base_uri": "https://localhost:8080/"
        },
        "id": "U8xsON-z8EaC",
        "outputId": "74f7f66d-7a7a-4767-b3d9-39f9ff0047be"
      },
      "source": [
        "# Versão da Linguagem Python\n",
        "from platform import python_version\n",
        "print('Versão da Linguagem Python Usada Neste Jupyter Notebook:', python_version())"
      ],
      "execution_count": 1,
      "outputs": [
        {
          "output_type": "stream",
          "text": [
            "Versão da Linguagem Python Usada Neste Jupyter Notebook: 3.7.10\n"
          ],
          "name": "stdout"
        }
      ]
    },
    {
      "cell_type": "markdown",
      "metadata": {
        "id": "bMtO0dw18EaH"
      },
      "source": [
        "### While"
      ]
    },
    {
      "cell_type": "code",
      "metadata": {
        "colab": {
          "base_uri": "https://localhost:8080/"
        },
        "id": "aScBaFxP8EaI",
        "outputId": "8e71fe6f-eb92-4cb9-a6cc-59d63af91918"
      },
      "source": [
        "# Usando o loop while para imprimir os valores de 0 a 9\n",
        "counter = 0\n",
        "while counter < 10:\n",
        "    print(counter)\n",
        "    counter = counter + 1"
      ],
      "execution_count": 2,
      "outputs": [
        {
          "output_type": "stream",
          "text": [
            "0\n",
            "1\n",
            "2\n",
            "3\n",
            "4\n",
            "5\n",
            "6\n",
            "7\n",
            "8\n",
            "9\n"
          ],
          "name": "stdout"
        }
      ]
    },
    {
      "cell_type": "code",
      "metadata": {
        "colab": {
          "base_uri": "https://localhost:8080/"
        },
        "id": "L50HvMiG8EaK",
        "outputId": "fc6e731e-5ee6-4259-cff1-43967f29d773"
      },
      "source": [
        "# Também é possível usar a claúsula else para encerrar o loop while\n",
        "x = 0\n",
        "\n",
        "while x < 10:\n",
        "    print ('O valor de x nesta iteração é: ', x)\n",
        "    print (' x ainda é menor que 10, somando 1 a x')\n",
        "    x += 1\n",
        "    \n",
        "else:\n",
        "    print ('Loop concluído!')"
      ],
      "execution_count": 3,
      "outputs": [
        {
          "output_type": "stream",
          "text": [
            "O valor de x nesta iteração é:  0\n",
            " x ainda é menor que 10, somando 1 a x\n",
            "O valor de x nesta iteração é:  1\n",
            " x ainda é menor que 10, somando 1 a x\n",
            "O valor de x nesta iteração é:  2\n",
            " x ainda é menor que 10, somando 1 a x\n",
            "O valor de x nesta iteração é:  3\n",
            " x ainda é menor que 10, somando 1 a x\n",
            "O valor de x nesta iteração é:  4\n",
            " x ainda é menor que 10, somando 1 a x\n",
            "O valor de x nesta iteração é:  5\n",
            " x ainda é menor que 10, somando 1 a x\n",
            "O valor de x nesta iteração é:  6\n",
            " x ainda é menor que 10, somando 1 a x\n",
            "O valor de x nesta iteração é:  7\n",
            " x ainda é menor que 10, somando 1 a x\n",
            "O valor de x nesta iteração é:  8\n",
            " x ainda é menor que 10, somando 1 a x\n",
            "O valor de x nesta iteração é:  9\n",
            " x ainda é menor que 10, somando 1 a x\n",
            "Loop concluído!\n"
          ],
          "name": "stdout"
        }
      ]
    },
    {
      "cell_type": "markdown",
      "metadata": {
        "id": "xJ_MyjrK8EaM"
      },
      "source": [
        "### Pass, Break, Continue"
      ]
    },
    {
      "cell_type": "code",
      "metadata": {
        "colab": {
          "base_uri": "https://localhost:8080/"
        },
        "id": "JhFm6vfi8EaN",
        "outputId": "936fc2f3-096b-4581-ce81-e67935ed0006"
      },
      "source": [
        "counter = 0\n",
        "while counter < 100:\n",
        "    if counter == 4:\n",
        "        break\n",
        "    else:\n",
        "        pass\n",
        "    print(counter)\n",
        "    counter = counter + 1"
      ],
      "execution_count": 4,
      "outputs": [
        {
          "output_type": "stream",
          "text": [
            "0\n",
            "1\n",
            "2\n",
            "3\n"
          ],
          "name": "stdout"
        }
      ]
    },
    {
      "cell_type": "code",
      "metadata": {
        "colab": {
          "base_uri": "https://localhost:8080/"
        },
        "id": "r5kc_0Ya8EaO",
        "outputId": "d799089c-e133-461a-ca83-ef235f837416"
      },
      "source": [
        "for verificador in \"Python\":\n",
        "    if verificador == \"h\":\n",
        "        continue\n",
        "    print(verificador)"
      ],
      "execution_count": 5,
      "outputs": [
        {
          "output_type": "stream",
          "text": [
            "P\n",
            "y\n",
            "t\n",
            "o\n",
            "n\n"
          ],
          "name": "stdout"
        }
      ]
    },
    {
      "cell_type": "markdown",
      "metadata": {
        "id": "AMtTF4Qr8EaP"
      },
      "source": [
        "### While e For juntos"
      ]
    },
    {
      "cell_type": "code",
      "metadata": {
        "colab": {
          "base_uri": "https://localhost:8080/"
        },
        "id": "q2M6dsqo8EaQ",
        "outputId": "7c3ce7a7-fa9f-4c74-bbae-cf24e58ecbda"
      },
      "source": [
        "for i in range(2,30):\n",
        "    j = 2\n",
        "    counter = 0\n",
        "    while j < i:\n",
        "        if i % j == 0:\n",
        "            counter = 1\n",
        "            j = j + 1\n",
        "        else:\n",
        "            j = j + 1\n",
        "    \n",
        "    if counter == 0:\n",
        "        print(str(i) + \" é um número primo\")\n",
        "        counter = 0\n",
        "    else:\n",
        "        counter = 0"
      ],
      "execution_count": 6,
      "outputs": [
        {
          "output_type": "stream",
          "text": [
            "2 é um número primo\n",
            "3 é um número primo\n",
            "5 é um número primo\n",
            "7 é um número primo\n",
            "11 é um número primo\n",
            "13 é um número primo\n",
            "17 é um número primo\n",
            "19 é um número primo\n",
            "23 é um número primo\n",
            "29 é um número primo\n"
          ],
          "name": "stdout"
        }
      ]
    },
    {
      "cell_type": "markdown",
      "metadata": {
        "id": "BlgadDMi8EaS"
      },
      "source": [
        "# Fim"
      ]
    },
    {
      "cell_type": "markdown",
      "metadata": {
        "id": "WbcIqhT48EaS"
      },
      "source": [
        "### Obrigado - Data Science Academy - <a href=\"http://facebook.com/dsacademybr\">facebook.com/dsacademybr</a>"
      ]
    }
  ]
}