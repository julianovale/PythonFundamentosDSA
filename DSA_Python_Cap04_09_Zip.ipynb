{
  "nbformat": 4,
  "nbformat_minor": 0,
  "metadata": {
    "kernelspec": {
      "display_name": "Python 3",
      "language": "python",
      "name": "python3"
    },
    "language_info": {
      "codemirror_mode": {
        "name": "ipython",
        "version": 3
      },
      "file_extension": ".py",
      "mimetype": "text/x-python",
      "name": "python",
      "nbconvert_exporter": "python",
      "pygments_lexer": "ipython3",
      "version": "3.7.6"
    },
    "colab": {
      "name": "DSA-Python-Cap04-09-Zip.ipynb",
      "provenance": [],
      "include_colab_link": true
    }
  },
  "cells": [
    {
      "cell_type": "markdown",
      "metadata": {
        "id": "view-in-github",
        "colab_type": "text"
      },
      "source": [
        "<a href=\"https://colab.research.google.com/github/julianovale/PythonFundamentosDSA/blob/main/DSA_Python_Cap04_09_Zip.ipynb\" target=\"_parent\"><img src=\"https://colab.research.google.com/assets/colab-badge.svg\" alt=\"Open In Colab\"/></a>"
      ]
    },
    {
      "cell_type": "markdown",
      "metadata": {
        "id": "KSeYSG2q1J_z"
      },
      "source": [
        "# <font color='blue'>Data Science Academy - Python Fundamentos - Capítulo 4</font>\n",
        "\n",
        "## Download: http://github.com/dsacademybr"
      ]
    },
    {
      "cell_type": "code",
      "metadata": {
        "colab": {
          "base_uri": "https://localhost:8080/"
        },
        "id": "-GemjqHW1J__",
        "outputId": "0b0baa4a-7957-4729-c50c-dc1f587b2d33"
      },
      "source": [
        "# Versão da Linguagem Python\n",
        "from platform import python_version\n",
        "print('Versão da Linguagem Python Usada Neste Jupyter Notebook:', python_version())"
      ],
      "execution_count": 1,
      "outputs": [
        {
          "output_type": "stream",
          "text": [
            "Versão da Linguagem Python Usada Neste Jupyter Notebook: 3.7.10\n"
          ],
          "name": "stdout"
        }
      ]
    },
    {
      "cell_type": "markdown",
      "metadata": {
        "id": "22AsKJf51KAC"
      },
      "source": [
        "## Zip"
      ]
    },
    {
      "cell_type": "code",
      "metadata": {
        "id": "4w53iSwT1KAD"
      },
      "source": [
        "# Criando duas listas\n",
        "x = [1,2,3]\n",
        "y = [4,5,6]"
      ],
      "execution_count": 2,
      "outputs": []
    },
    {
      "cell_type": "code",
      "metadata": {
        "colab": {
          "base_uri": "https://localhost:8080/"
        },
        "id": "fWxk6axN1KAD",
        "outputId": "3cec8767-48b2-4a38-84db-1144b40cbe90"
      },
      "source": [
        "# Unindo as listas. Em Python3 retorna um iterator\n",
        "zip(x, y)"
      ],
      "execution_count": 3,
      "outputs": [
        {
          "output_type": "execute_result",
          "data": {
            "text/plain": [
              "<zip at 0x7f353ec5e0a0>"
            ]
          },
          "metadata": {
            "tags": []
          },
          "execution_count": 3
        }
      ]
    },
    {
      "cell_type": "code",
      "metadata": {
        "colab": {
          "base_uri": "https://localhost:8080/"
        },
        "id": "JlWH3rgn1KAE",
        "outputId": "d043378a-7e4e-47d0-9e48-74ab6e4ce45f"
      },
      "source": [
        "# Perceba que zip retorna tuplas. Neste caso, uma lista de tuplas\n",
        "list(zip(x,y))"
      ],
      "execution_count": 4,
      "outputs": [
        {
          "output_type": "execute_result",
          "data": {
            "text/plain": [
              "[(1, 4), (2, 5), (3, 6)]"
            ]
          },
          "metadata": {
            "tags": []
          },
          "execution_count": 4
        }
      ]
    },
    {
      "cell_type": "code",
      "metadata": {
        "colab": {
          "base_uri": "https://localhost:8080/"
        },
        "id": "TWge_Wcm1KAF",
        "outputId": "9906de8e-3984-4ff6-e966-1048e12f62ce"
      },
      "source": [
        "# Atenção quando as sequências tiverem número diferente de elementos\n",
        "list(zip('ABCD', 'xy'))"
      ],
      "execution_count": 5,
      "outputs": [
        {
          "output_type": "execute_result",
          "data": {
            "text/plain": [
              "[('A', 'x'), ('B', 'y')]"
            ]
          },
          "metadata": {
            "tags": []
          },
          "execution_count": 5
        }
      ]
    },
    {
      "cell_type": "code",
      "metadata": {
        "id": "Kk1s1Vvo1KAF"
      },
      "source": [
        "# Criando duas listas\n",
        "a = [1,2,3]\n",
        "b = [4,5,6,7,8]"
      ],
      "execution_count": 6,
      "outputs": []
    },
    {
      "cell_type": "code",
      "metadata": {
        "colab": {
          "base_uri": "https://localhost:8080/"
        },
        "id": "wmpNt7_O1KAG",
        "outputId": "64d6a09f-884e-457b-e605-02e1d1e531e2"
      },
      "source": [
        "list(zip(a,b)) "
      ],
      "execution_count": 7,
      "outputs": [
        {
          "output_type": "execute_result",
          "data": {
            "text/plain": [
              "[(1, 4), (2, 5), (3, 6)]"
            ]
          },
          "metadata": {
            "tags": []
          },
          "execution_count": 7
        }
      ]
    },
    {
      "cell_type": "code",
      "metadata": {
        "id": "wN3Hmz_Y1KAG"
      },
      "source": [
        "# Criando 2 dicionários\n",
        "d1 = {'a':1,'b':2}\n",
        "d2 = {'c':4,'d':5}"
      ],
      "execution_count": 8,
      "outputs": []
    },
    {
      "cell_type": "code",
      "metadata": {
        "id": "iXxo_SDY1KAH",
        "outputId": "914a5a02-933d-46a8-cbb2-0320459ca95b"
      },
      "source": [
        "# Zip vai unir as chaves\n",
        "list(zip(d1,d2))"
      ],
      "execution_count": null,
      "outputs": [
        {
          "output_type": "execute_result",
          "data": {
            "text/plain": [
              "[('a', 'c'), ('b', 'd')]"
            ]
          },
          "metadata": {
            "tags": []
          },
          "execution_count": 9
        }
      ]
    },
    {
      "cell_type": "code",
      "metadata": {
        "colab": {
          "base_uri": "https://localhost:8080/"
        },
        "id": "Bc_ifXzy1KAH",
        "outputId": "e88deed7-cfc3-4f24-f1f9-95c22eaa5475"
      },
      "source": [
        "# Zip pode unir os valores (itens)\n",
        "list(zip(d1, d2.values()))"
      ],
      "execution_count": 10,
      "outputs": [
        {
          "output_type": "execute_result",
          "data": {
            "text/plain": [
              "[('a', 4), ('b', 5)]"
            ]
          },
          "metadata": {
            "tags": []
          },
          "execution_count": 10
        }
      ]
    },
    {
      "cell_type": "code",
      "metadata": {
        "id": "qhOqcwy-1KAI"
      },
      "source": [
        "# Criando uma função para trocar valores entre 2 dicionários\n",
        "def trocaValores(d1, d2):\n",
        "    dicTemp = {}\n",
        "    \n",
        "    for d1key, d2val in zip(d1,d2.values()):\n",
        "        dicTemp[d1key] = d2val\n",
        "    \n",
        "    return dicTemp"
      ],
      "execution_count": 11,
      "outputs": []
    },
    {
      "cell_type": "code",
      "metadata": {
        "colab": {
          "base_uri": "https://localhost:8080/"
        },
        "id": "ziZfQ4OV1KAI",
        "outputId": "2ebcbaf9-f478-4203-950f-3222ca6b9371"
      },
      "source": [
        "trocaValores(d1, d2)"
      ],
      "execution_count": 12,
      "outputs": [
        {
          "output_type": "execute_result",
          "data": {
            "text/plain": [
              "{'a': 4, 'b': 5}"
            ]
          },
          "metadata": {
            "tags": []
          },
          "execution_count": 12
        }
      ]
    },
    {
      "cell_type": "markdown",
      "metadata": {
        "id": "UqBEdsSR1KAJ"
      },
      "source": [
        "# FIM"
      ]
    },
    {
      "cell_type": "markdown",
      "metadata": {
        "id": "lh6bonAH1KAL"
      },
      "source": [
        "### Obrigado - Data Science Academy - <a href=\"http://facebook.com/dsacademybr\">facebook.com/dsacademybr</a>"
      ]
    }
  ]
}