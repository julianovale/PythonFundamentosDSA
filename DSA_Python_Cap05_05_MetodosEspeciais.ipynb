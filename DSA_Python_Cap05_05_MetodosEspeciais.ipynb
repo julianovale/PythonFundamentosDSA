{
  "nbformat": 4,
  "nbformat_minor": 0,
  "metadata": {
    "kernelspec": {
      "display_name": "Python 3",
      "language": "python",
      "name": "python3"
    },
    "language_info": {
      "codemirror_mode": {
        "name": "ipython",
        "version": 3
      },
      "file_extension": ".py",
      "mimetype": "text/x-python",
      "name": "python",
      "nbconvert_exporter": "python",
      "pygments_lexer": "ipython3",
      "version": "3.7.6"
    },
    "colab": {
      "name": "DSA-Python-Cap05-05-MetodosEspeciais.ipynb",
      "provenance": [],
      "include_colab_link": true
    }
  },
  "cells": [
    {
      "cell_type": "markdown",
      "metadata": {
        "id": "view-in-github",
        "colab_type": "text"
      },
      "source": [
        "<a href=\"https://colab.research.google.com/github/julianovale/PythonFundamentosDSA/blob/main/DSA_Python_Cap05_05_MetodosEspeciais.ipynb\" target=\"_parent\"><img src=\"https://colab.research.google.com/assets/colab-badge.svg\" alt=\"Open In Colab\"/></a>"
      ]
    },
    {
      "cell_type": "markdown",
      "metadata": {
        "id": "naOYMHkPaO4e"
      },
      "source": [
        "# <font color='blue'>Data Science Academy - Python Fundamentos - Capítulo 5</font>\n",
        "## Download: http://github.com/dsacademybr"
      ]
    },
    {
      "cell_type": "code",
      "metadata": {
        "colab": {
          "base_uri": "https://localhost:8080/"
        },
        "id": "UtNk9nRJaO4i",
        "outputId": "177a798d-af0f-49e7-c18d-4e585676aa99"
      },
      "source": [
        "# Versão da Linguagem Python\n",
        "from platform import python_version\n",
        "print('Versão da Linguagem Python Usada Neste Jupyter Notebook:', python_version())"
      ],
      "execution_count": 1,
      "outputs": [
        {
          "output_type": "stream",
          "text": [
            "Versão da Linguagem Python Usada Neste Jupyter Notebook: 3.7.10\n"
          ],
          "name": "stdout"
        }
      ]
    },
    {
      "cell_type": "markdown",
      "metadata": {
        "id": "EkJub9f3aO4n"
      },
      "source": [
        "## Métodos Especiais"
      ]
    },
    {
      "cell_type": "code",
      "metadata": {
        "id": "X45WqLoUaO4p"
      },
      "source": [
        "# Criando a classe Livro\n",
        "class Livro():\n",
        "    def __init__(self, titulo, autor, paginas):\n",
        "        print (\"Livro criado\")\n",
        "        self.titulo = titulo\n",
        "        self.autor = autor\n",
        "        self.paginas = paginas\n",
        "                \n",
        "    def __str__(self):\n",
        "        return \"Título: %s , autor: %s, páginas: %s \" \\\n",
        "    %(self.titulo, self.autor, self.paginas)\n",
        "\n",
        "    def __len__(self):\n",
        "        return self.paginas\n",
        "    \n",
        "    def len(self):\n",
        "        return print(\"Páginas do livro com método comum: \", self.paginas)"
      ],
      "execution_count": 2,
      "outputs": []
    },
    {
      "cell_type": "code",
      "metadata": {
        "colab": {
          "base_uri": "https://localhost:8080/"
        },
        "id": "gdt6rMhNaO4s",
        "outputId": "3e63e519-4682-461c-bb01-dd32c04bede9"
      },
      "source": [
        "livro1 = Livro(\"Os Lusíadas\", \"Luis de Camões\", 8816)"
      ],
      "execution_count": 3,
      "outputs": [
        {
          "output_type": "stream",
          "text": [
            "Livro criado\n"
          ],
          "name": "stdout"
        }
      ]
    },
    {
      "cell_type": "code",
      "metadata": {
        "colab": {
          "base_uri": "https://localhost:8080/"
        },
        "id": "CbFY8oTEaO4t",
        "outputId": "ee504935-35cc-4b4e-c02b-38381bc62a16"
      },
      "source": [
        "# Métodos especiais\n",
        "print(livro1)"
      ],
      "execution_count": 5,
      "outputs": [
        {
          "output_type": "stream",
          "text": [
            "Título: Os Lusíadas , autor: Luis de Camões, páginas: 8816 \n"
          ],
          "name": "stdout"
        }
      ]
    },
    {
      "cell_type": "code",
      "metadata": {
        "colab": {
          "base_uri": "https://localhost:8080/",
          "height": 35
        },
        "id": "JxtVa4dGaO4t",
        "outputId": "c1cbe1d7-919e-4ea9-8bb7-4c1beb5373ea"
      },
      "source": [
        "str(livro1)"
      ],
      "execution_count": 6,
      "outputs": [
        {
          "output_type": "execute_result",
          "data": {
            "application/vnd.google.colaboratory.intrinsic+json": {
              "type": "string"
            },
            "text/plain": [
              "'Título: Os Lusíadas , autor: Luis de Camões, páginas: 8816 '"
            ]
          },
          "metadata": {
            "tags": []
          },
          "execution_count": 6
        }
      ]
    },
    {
      "cell_type": "code",
      "metadata": {
        "colab": {
          "base_uri": "https://localhost:8080/"
        },
        "id": "9tr1sdGbaO4u",
        "outputId": "a86068cd-08ee-4f7e-91ae-712752019872"
      },
      "source": [
        "len(livro1)"
      ],
      "execution_count": 7,
      "outputs": [
        {
          "output_type": "execute_result",
          "data": {
            "text/plain": [
              "8816"
            ]
          },
          "metadata": {
            "tags": []
          },
          "execution_count": 7
        }
      ]
    },
    {
      "cell_type": "code",
      "metadata": {
        "colab": {
          "base_uri": "https://localhost:8080/"
        },
        "id": "O-OYXytxaO4u",
        "outputId": "f5d9dc01-8182-48be-bad9-ed0ccb6107fe"
      },
      "source": [
        "livro1.len()"
      ],
      "execution_count": 8,
      "outputs": [
        {
          "output_type": "stream",
          "text": [
            "Páginas do livro com método comum:  8816\n"
          ],
          "name": "stdout"
        }
      ]
    },
    {
      "cell_type": "code",
      "metadata": {
        "id": "LGCgEb-DaO4v"
      },
      "source": [
        "# Ao executar a função del para remover um atributo, o Python executa:\n",
        "# livro1.__delattr__(\"paginas\")\n",
        "del livro1.paginas"
      ],
      "execution_count": 10,
      "outputs": []
    },
    {
      "cell_type": "code",
      "metadata": {
        "colab": {
          "base_uri": "https://localhost:8080/"
        },
        "id": "xJJtJCqjaO4w",
        "outputId": "766ab65e-6c43-43dc-fa0c-649f844eb97b"
      },
      "source": [
        "hasattr(livro1, \"paginas\")"
      ],
      "execution_count": 11,
      "outputs": [
        {
          "output_type": "execute_result",
          "data": {
            "text/plain": [
              "False"
            ]
          },
          "metadata": {
            "tags": []
          },
          "execution_count": 11
        }
      ]
    },
    {
      "cell_type": "markdown",
      "metadata": {
        "id": "xuEQEQWpaO4w"
      },
      "source": [
        "# Fim"
      ]
    },
    {
      "cell_type": "markdown",
      "metadata": {
        "id": "mGL73whJaO4x"
      },
      "source": [
        "### Obrigado - Data Science Academy - <a href=\"http://facebook.com/dsacademybr\">facebook.com/dsacademybr</a>"
      ]
    }
  ]
}