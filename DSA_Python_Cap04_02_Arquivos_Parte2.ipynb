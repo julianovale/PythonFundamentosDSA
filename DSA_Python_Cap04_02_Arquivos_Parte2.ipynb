{
  "nbformat": 4,
  "nbformat_minor": 0,
  "metadata": {
    "css": [
      ""
    ],
    "kernelspec": {
      "display_name": "Python 3",
      "language": "python",
      "name": "python3"
    },
    "language_info": {
      "codemirror_mode": {
        "name": "ipython",
        "version": 3
      },
      "file_extension": ".py",
      "mimetype": "text/x-python",
      "name": "python",
      "nbconvert_exporter": "python",
      "pygments_lexer": "ipython3",
      "version": "3.7.6"
    },
    "colab": {
      "name": "DSA-Python-Cap04-02-Arquivos-Parte2.ipynb",
      "provenance": [],
      "collapsed_sections": [
        "C0dGvAw85X88",
        "t2IjPMad5X9B",
        "6Cg9cH2n5X9M"
      ],
      "include_colab_link": true
    }
  },
  "cells": [
    {
      "cell_type": "markdown",
      "metadata": {
        "id": "view-in-github",
        "colab_type": "text"
      },
      "source": [
        "<a href=\"https://colab.research.google.com/github/julianovale/PythonFundamentosDSA/blob/main/DSA_Python_Cap04_02_Arquivos_Parte2.ipynb\" target=\"_parent\"><img src=\"https://colab.research.google.com/assets/colab-badge.svg\" alt=\"Open In Colab\"/></a>"
      ]
    },
    {
      "cell_type": "markdown",
      "metadata": {
        "id": "GDlgz8l05X8o"
      },
      "source": [
        "# <font color='blue'>Data Science Academy - Python Fundamentos - Capítulo 4</font>\n",
        "\n",
        "## Download: http://github.com/dsacademybr"
      ]
    },
    {
      "cell_type": "code",
      "metadata": {
        "colab": {
          "base_uri": "https://localhost:8080/"
        },
        "id": "8zg_SJeq5X8t",
        "outputId": "ef178783-9c87-458a-9863-0fc639421b8a"
      },
      "source": [
        "# Versão da Linguagem Python\n",
        "from platform import python_version\n",
        "print('Versão da Linguagem Python Usada Neste Jupyter Notebook:', python_version())"
      ],
      "execution_count": 43,
      "outputs": [
        {
          "output_type": "stream",
          "text": [
            "Versão da Linguagem Python Usada Neste Jupyter Notebook: 3.7.10\n"
          ],
          "name": "stdout"
        }
      ]
    },
    {
      "cell_type": "code",
      "metadata": {
        "id": "nsTObfOA5etl",
        "colab": {
          "base_uri": "https://localhost:8080/"
        },
        "outputId": "aac52d00-f27f-4784-80c8-d7f7dfd7924d"
      },
      "source": [
        "''' Montando o Drive '''\r\n",
        "\r\n",
        "from google.colab import drive\r\n",
        "import os\r\n",
        "drive.mount('/content/drive/')\r\n",
        "path = '/content/drive/MyDrive/Data Scientist/PythonFundamentos-master/Cap04/Notebooks/'\r\n",
        "os.chdir(path)\r\n",
        "! ls"
      ],
      "execution_count": 59,
      "outputs": [
        {
          "output_type": "stream",
          "text": [
            "Drive already mounted at /content/drive/; to attempt to forcibly remount, call drive.mount(\"/content/drive/\", force_remount=True).\n",
            " arquivos\n",
            " DSA-Python-Cap04-01-Arquivos-Parte1.ipynb\n",
            " DSA-Python-Cap04-02-Arquivos-Parte2.ipynb\n",
            " DSA-Python-Cap04-03-Modulos-e-Pacotes.ipynb\n",
            " DSA-Python-Cap04-04-Datetime.ipynb\n",
            " DSA-Python-Cap04-05-Map.ipynb\n",
            " DSA-Python-Cap04-06-Reduce.ipynb\n",
            " DSA-Python-Cap04-07-Filter.ipynb\n",
            "'DSA-Python-Cap04-08-List Comprehensions.ipynb'\n",
            " DSA-Python-Cap04-09-Zip.ipynb\n",
            " DSA-Python-Cap04-10-Enumerate.ipynb\n",
            " DSA-Python-Cap04-11-Erros-e-Excecoes.ipynb\n",
            " DSA-Python-Cap04-ExercicioS.ipynb\n",
            " DSA-Python-Cap04-Exercicios-Solucao.ipynb\n"
          ],
          "name": "stdout"
        }
      ]
    },
    {
      "cell_type": "markdown",
      "metadata": {
        "id": "YqRb8NMc5X8x"
      },
      "source": [
        "## ************ ATENÇÃO ************\n",
        "Caso você tenha problemas com acentos nos arquivos:\n",
        "\n",
        "Primeiro, recomendamos a leitura do material sobre Formato Unicode, ao final do capítulo 4.\n",
        "\n",
        "Uma forma de resolver esse problema, é abrir o arquivo em um editor de texto como o Sublime Text, clicar em File - Save with Encoding e então salvar com encoding UTF-8.\n",
        "\n",
        "Outra opção é incluir o parâmetro encoding='utf8' ao abrir o arquivo para leitura ou escrita.\n"
      ]
    },
    {
      "cell_type": "markdown",
      "metadata": {
        "id": "BE_wu8pd5X8z"
      },
      "source": [
        "## Manipulação de Arquivos"
      ]
    },
    {
      "cell_type": "markdown",
      "metadata": {
        "id": "TnNJTUvl5X80"
      },
      "source": [
        "- Arquivos TXT\n",
        "- Arquivos CSV \n",
        "- Arquivos JSON"
      ]
    },
    {
      "cell_type": "markdown",
      "metadata": {
        "id": "y-gfa77s5X82"
      },
      "source": [
        "## Manipulando Arquivos TXT"
      ]
    },
    {
      "cell_type": "code",
      "metadata": {
        "id": "wSZUXKjG5X83"
      },
      "source": [
        "texto = \"Cientista de Dados é a profissão que mais tem crescido em todo mundo.\\n\"\n",
        "texto = texto + \"Esses profissionais precisam se especializar em Programação, Estatística e Machine Learning.\\n\"\n",
        "texto += \"E claro, em Big Data.\""
      ],
      "execution_count": 49,
      "outputs": []
    },
    {
      "cell_type": "code",
      "metadata": {
        "id": "va5Pve4t5X83",
        "colab": {
          "base_uri": "https://localhost:8080/"
        },
        "outputId": "3c36692a-5fde-4438-e72b-e7d48e05a1a1"
      },
      "source": [
        "print(texto)"
      ],
      "execution_count": 50,
      "outputs": [
        {
          "output_type": "stream",
          "text": [
            "Cientista de Dados é a profissão que mais tem crescido em todo mundo.\n",
            "Esses profissionais precisam se especializar em Programação, Estatística e Machine Learning.\n",
            "E claro, em Big Data.\n"
          ],
          "name": "stdout"
        }
      ]
    },
    {
      "cell_type": "code",
      "metadata": {
        "id": "YY-NpW765X84"
      },
      "source": [
        "# Importando o módulo os\n",
        "import os"
      ],
      "execution_count": 51,
      "outputs": []
    },
    {
      "cell_type": "code",
      "metadata": {
        "id": "vNCj5rdK5X84"
      },
      "source": [
        "# Criando um arquivo \n",
        "arquivo = open(os.path.join('arquivos/cientista.txt'),'w')"
      ],
      "execution_count": 52,
      "outputs": []
    },
    {
      "cell_type": "code",
      "metadata": {
        "id": "TLjyiGNT5X85"
      },
      "source": [
        "# Gravando os dados no arquivo\n",
        "for palavra in texto.split():\n",
        "    arquivo.write(palavra+' ')"
      ],
      "execution_count": 53,
      "outputs": []
    },
    {
      "cell_type": "code",
      "metadata": {
        "id": "12aC8Uv95X85"
      },
      "source": [
        "# Fechando o arquivo\n",
        "arquivo.close()"
      ],
      "execution_count": 54,
      "outputs": []
    },
    {
      "cell_type": "code",
      "metadata": {
        "id": "SLH6eFIa5X85",
        "colab": {
          "base_uri": "https://localhost:8080/"
        },
        "outputId": "00c6815b-261a-4283-8bcd-4a84df31f7fe"
      },
      "source": [
        "# Lendo o arquivo\n",
        "arquivo = open('arquivos/cientista.txt','r')\n",
        "conteudo = arquivo.read()\n",
        "arquivo.close()\n",
        "\n",
        "print(conteudo)"
      ],
      "execution_count": 55,
      "outputs": [
        {
          "output_type": "stream",
          "text": [
            "Cientista de Dados é a profissão que mais tem crescido em todo mundo. Esses profissionais precisam se especializar em Programação, Estatística e Machine Learning. E claro, em Big Data. \n"
          ],
          "name": "stdout"
        }
      ]
    },
    {
      "cell_type": "markdown",
      "metadata": {
        "id": "PmfAdbEg5X86"
      },
      "source": [
        "### Usando a expressão `with` \n",
        "\n",
        "O método close() é executado automaticamente"
      ]
    },
    {
      "cell_type": "code",
      "metadata": {
        "id": "jHVM47165X86"
      },
      "source": [
        "with open('arquivos/cientista.txt','r') as arquivo:\n",
        "    conteudo = arquivo.read()"
      ],
      "execution_count": 60,
      "outputs": []
    },
    {
      "cell_type": "code",
      "metadata": {
        "id": "inWNaulL5X86",
        "colab": {
          "base_uri": "https://localhost:8080/"
        },
        "outputId": "d3f182cc-7c80-4f98-a7e5-2e1414a4e072"
      },
      "source": [
        "print(len(conteudo))"
      ],
      "execution_count": 57,
      "outputs": [
        {
          "output_type": "stream",
          "text": [
            "185\n"
          ],
          "name": "stdout"
        }
      ]
    },
    {
      "cell_type": "code",
      "metadata": {
        "id": "VXOE1lWV5X87",
        "outputId": "8e337a7b-c32c-4f41-952f-b03c5359791c"
      },
      "source": [
        "print(conteudo)"
      ],
      "execution_count": null,
      "outputs": [
        {
          "output_type": "stream",
          "text": [
            "Cientista de Dados é a profissão que mais tem crescido em todo mundo. Esses profissionais precisam se especializar em Programação, Estatística e Machine Learning. E claro, em Big Data. \n"
          ],
          "name": "stdout"
        }
      ]
    },
    {
      "cell_type": "code",
      "metadata": {
        "id": "eSWyBmDz5X87"
      },
      "source": [
        "with open('arquivos/cientista.txt','w') as arquivo:\n",
        "    arquivo.write(texto[:21])\n",
        "    arquivo.write('\\n')\n",
        "    arquivo.write(texto[:33])"
      ],
      "execution_count": null,
      "outputs": []
    },
    {
      "cell_type": "code",
      "metadata": {
        "id": "eY5LaeOC5X87",
        "outputId": "6a440734-d806-4439-dbf9-e1c01ddde007"
      },
      "source": [
        "# Lendo o arquivo\n",
        "arquivo = open('arquivos/cientista.txt','r')\n",
        "conteudo = arquivo.read()\n",
        "arquivo.close()\n",
        "\n",
        "print (conteudo)"
      ],
      "execution_count": null,
      "outputs": [
        {
          "output_type": "stream",
          "text": [
            "Cientista de Dados é \n",
            "Cientista de Dados é a profissão \n"
          ],
          "name": "stdout"
        }
      ]
    },
    {
      "cell_type": "markdown",
      "metadata": {
        "id": "C0dGvAw85X88"
      },
      "source": [
        "### Manipulando Arquivos CSV (comma-separated values )"
      ]
    },
    {
      "cell_type": "code",
      "metadata": {
        "id": "vkgGMwk_5X88"
      },
      "source": [
        "# Importando o módulo csv\n",
        "import csv"
      ],
      "execution_count": null,
      "outputs": []
    },
    {
      "cell_type": "code",
      "metadata": {
        "id": "Qly0Puhi5X88"
      },
      "source": [
        "with open('arquivos/numeros.csv','w') as arquivo:\n",
        "    writer = csv.writer(arquivo)\n",
        "    writer.writerow(('primeira','segunda','terceira'))\n",
        "    writer.writerow((55,93,76)) \n",
        "    writer.writerow((62,14,86))"
      ],
      "execution_count": null,
      "outputs": []
    },
    {
      "cell_type": "code",
      "metadata": {
        "id": "N3liWHJ65X89",
        "outputId": "50c36b65-5ca6-4664-ec52-2b234e0ac0d5"
      },
      "source": [
        "# Leitura de arquivos csv\n",
        "with open('arquivos/numeros.csv','r') as arquivo:\n",
        "    leitor = csv.reader(arquivo)\n",
        "    for x in leitor:\n",
        "        print ('Número de colunas:', len(x))\n",
        "        print(x)"
      ],
      "execution_count": null,
      "outputs": [
        {
          "output_type": "stream",
          "text": [
            "Número de colunas: 3\n",
            "['primeira', 'segunda', 'terceira']\n",
            "Número de colunas: 3\n",
            "['55', '93', '76']\n",
            "Número de colunas: 3\n",
            "['62', '14', '86']\n"
          ],
          "name": "stdout"
        }
      ]
    },
    {
      "cell_type": "code",
      "metadata": {
        "id": "5TlPOSGZ5X89",
        "outputId": "34639557-7b83-4c19-ba95-dee1c6564efc"
      },
      "source": [
        "# Código alternativo para eventuais problemas com linhas em branco no arquivo\n",
        "with open('arquivos/numeros.csv','r', encoding='utf8', newline = '\\r\\n') as arquivo:\n",
        "    leitor = csv.reader(arquivo)\n",
        "    for x in leitor:\n",
        "        print ('Número de colunas:', len(x))\n",
        "        print(x)"
      ],
      "execution_count": null,
      "outputs": [
        {
          "output_type": "stream",
          "text": [
            "Número de colunas: 3\n",
            "['primeira', 'segunda', 'terceira']\n",
            "Número de colunas: 3\n",
            "['55', '93', '76']\n",
            "Número de colunas: 3\n",
            "['62', '14', '86']\n"
          ],
          "name": "stdout"
        }
      ]
    },
    {
      "cell_type": "code",
      "metadata": {
        "id": "jlxLrcpo5X8_",
        "outputId": "b911f6c9-b109-464a-95f2-924c03ea457f"
      },
      "source": [
        "# Gerando uma lista com dados do arquivo csv\n",
        "with open('arquivos/numeros.csv','r') as arquivo:\n",
        "    leitor = csv.reader(arquivo)\n",
        "    dados = list(leitor)\n",
        "    \n",
        "    \n",
        "print (dados)"
      ],
      "execution_count": null,
      "outputs": [
        {
          "output_type": "stream",
          "text": [
            "[['primeira', 'segunda', 'terceira'], ['55', '93', '76'], ['62', '14', '86']]\n"
          ],
          "name": "stdout"
        }
      ]
    },
    {
      "cell_type": "code",
      "metadata": {
        "id": "y5dY01RZ5X9B",
        "outputId": "705ebb4b-5c22-44c9-ba2b-5b318b5f91bd"
      },
      "source": [
        "# Impriminfo a partir da segunda linha\n",
        "for linha in dados[1:]:\n",
        "    print (linha)"
      ],
      "execution_count": null,
      "outputs": [
        {
          "output_type": "stream",
          "text": [
            "['55', '93', '76']\n",
            "['62', '14', '86']\n"
          ],
          "name": "stdout"
        }
      ]
    },
    {
      "cell_type": "markdown",
      "metadata": {
        "id": "t2IjPMad5X9B"
      },
      "source": [
        "### Manipulando Arquivos JSON (Java Script Object Notation )\n",
        "JSON (JavaScript Object Notation) é uma maneira de armazenar informações de forma organizada e de fácil acesso. Em poucas palavras, ele nos dá uma coleção legível de dados que podem ser acessados de forma muito lógica. Pode ser uma fonte de Big Data."
      ]
    },
    {
      "cell_type": "code",
      "metadata": {
        "id": "DDLXCFKO5X9C"
      },
      "source": [
        "# Criando um dicionário\n",
        "dict = {'nome': 'Guido van Rossum',\n",
        "        'linguagem': 'Python',\n",
        "        'similar': ['c','Modula-3','lisp'],\n",
        "        'users': 1000000}"
      ],
      "execution_count": null,
      "outputs": []
    },
    {
      "cell_type": "code",
      "metadata": {
        "id": "MCN7_Wqt5X9C",
        "outputId": "b11c48da-b245-4992-e62c-b985cd66ba5f"
      },
      "source": [
        "for k,v in dict.items():\n",
        "    print (k,v)"
      ],
      "execution_count": null,
      "outputs": [
        {
          "output_type": "stream",
          "text": [
            "nome Guido van Rossum\n",
            "linguagem Python\n",
            "similar ['c', 'Modula-3', 'lisp']\n",
            "users 1000000\n"
          ],
          "name": "stdout"
        }
      ]
    },
    {
      "cell_type": "code",
      "metadata": {
        "id": "5hDzcO4r5X9D"
      },
      "source": [
        "# Importando o módulo Json\n",
        "import json"
      ],
      "execution_count": null,
      "outputs": []
    },
    {
      "cell_type": "code",
      "metadata": {
        "id": "CFup-oDw5X9D",
        "outputId": "c3b50824-d11b-4bee-fb38-75177237f229"
      },
      "source": [
        "# Convertendo o dicionário para um objeto json\n",
        "json.dumps(dict)"
      ],
      "execution_count": null,
      "outputs": [
        {
          "output_type": "execute_result",
          "data": {
            "text/plain": [
              "'{\"nome\": \"Guido van Rossum\", \"linguagem\": \"Python\", \"similar\": [\"c\", \"Modula-3\", \"lisp\"], \"users\": 1000000}'"
            ]
          },
          "metadata": {
            "tags": []
          },
          "execution_count": 23
        }
      ]
    },
    {
      "cell_type": "code",
      "metadata": {
        "id": "Zqfju8uU5X9E"
      },
      "source": [
        "# Criando um arquivo Json\n",
        "with open('arquivos/dados.json','w') as arquivo:\n",
        "    arquivo.write(json.dumps(dict))"
      ],
      "execution_count": null,
      "outputs": []
    },
    {
      "cell_type": "code",
      "metadata": {
        "id": "OADb8opM5X9F"
      },
      "source": [
        "# Leitura de arquivos Json\n",
        "with open('arquivos/dados.json','r') as arquivo:\n",
        "    texto = arquivo.read()\n",
        "    data = json.loads(texto)"
      ],
      "execution_count": null,
      "outputs": []
    },
    {
      "cell_type": "code",
      "metadata": {
        "id": "0kQb76K25X9F",
        "outputId": "00eed962-996b-4f93-bd65-8924f2422526"
      },
      "source": [
        "print (data)"
      ],
      "execution_count": null,
      "outputs": [
        {
          "output_type": "stream",
          "text": [
            "{'nome': 'Guido van Rossum', 'linguagem': 'Python', 'similar': ['c', 'Modula-3', 'lisp'], 'users': 1000000}\n"
          ],
          "name": "stdout"
        }
      ]
    },
    {
      "cell_type": "code",
      "metadata": {
        "id": "mzY-tBbf5X9G",
        "outputId": "d60a8136-dbc4-4618-dbb9-8b0103674e19"
      },
      "source": [
        "print (data['nome'])"
      ],
      "execution_count": null,
      "outputs": [
        {
          "output_type": "stream",
          "text": [
            "Guido van Rossum\n"
          ],
          "name": "stdout"
        }
      ]
    },
    {
      "cell_type": "code",
      "metadata": {
        "id": "pUzmDy8p5X9H"
      },
      "source": [
        "# Imprimindo um arquivo Json copiado da internet\n",
        "from urllib.request import urlopen\n",
        "\n",
        "response = urlopen(\"http://vimeo.com/api/v2/video/57733101.json\").read().decode('utf8')\n",
        "data = json.loads(response)[0]"
      ],
      "execution_count": null,
      "outputs": []
    },
    {
      "cell_type": "code",
      "metadata": {
        "id": "D6vZ9jA75X9I",
        "outputId": "eecaf807-29b6-4c72-d2d0-75cd93098ea3"
      },
      "source": [
        "print ('Título: ', data['title'])\n",
        "print ('URL: ', data['url'])\n",
        "print ('Duração: ', data['duration'])\n",
        "print ('Número de Visualizações: ', data['stats_number_of_plays'])"
      ],
      "execution_count": null,
      "outputs": [
        {
          "output_type": "stream",
          "text": [
            "Título:  The Good Man trailer\n",
            "URL:  https://vimeo.com/57733101\n",
            "Duração:  143\n",
            "Número de Visualizações:  5881\n"
          ],
          "name": "stdout"
        }
      ]
    },
    {
      "cell_type": "code",
      "metadata": {
        "id": "BIYRT5vw5X9I"
      },
      "source": [
        "# Copiando o conteúdo de um arquivo para outro\n",
        "import os\n",
        "\n",
        "arquivo_fonte = 'arquivos/dados.json'\n",
        "arquivo_destino = 'arquivos/json_data.txt'"
      ],
      "execution_count": null,
      "outputs": []
    },
    {
      "cell_type": "code",
      "metadata": {
        "id": "6tF79lj35X9J"
      },
      "source": [
        "# Método 1\n",
        "with open(arquivo_fonte,'r') as infile:\n",
        "    text = infile.read()\n",
        "    with open(arquivo_destino,'w') as outfile:\n",
        "        outfile.write(text)  "
      ],
      "execution_count": null,
      "outputs": []
    },
    {
      "cell_type": "code",
      "metadata": {
        "id": "xXm6Waug5X9K",
        "outputId": "6670ab13-52c2-4b25-b6b0-4575aad1a239"
      },
      "source": [
        "# Método 2\n",
        "open(arquivo_destino,'w').write(open(arquivo_fonte,'r').read()) "
      ],
      "execution_count": null,
      "outputs": [
        {
          "output_type": "execute_result",
          "data": {
            "text/plain": [
              "107"
            ]
          },
          "metadata": {
            "tags": []
          },
          "execution_count": 32
        }
      ]
    },
    {
      "cell_type": "code",
      "metadata": {
        "id": "Whj4MZkQ5X9K"
      },
      "source": [
        "# Leitura de arquivos Json\n",
        "with open('arquivos/json_data.txt','r') as arquivo:\n",
        "    texto = arquivo.read()\n",
        "    data = json.loads(texto)"
      ],
      "execution_count": null,
      "outputs": []
    },
    {
      "cell_type": "code",
      "metadata": {
        "id": "8YVGzZtW5X9L",
        "outputId": "cb8bd7b6-f571-4758-be7d-757b80409005"
      },
      "source": [
        "print(data)"
      ],
      "execution_count": null,
      "outputs": [
        {
          "output_type": "stream",
          "text": [
            "{'nome': 'Guido van Rossum', 'linguagem': 'Python', 'similar': ['c', 'Modula-3', 'lisp'], 'users': 1000000}\n"
          ],
          "name": "stdout"
        }
      ]
    },
    {
      "cell_type": "markdown",
      "metadata": {
        "id": "WDxGtdkh5X9L"
      },
      "source": [
        "# FIM"
      ]
    },
    {
      "cell_type": "markdown",
      "metadata": {
        "id": "6Cg9cH2n5X9M"
      },
      "source": [
        "### Obrigado - Data Science Academy - <a href=\"http://facebook.com/dsacademybr\">facebook.com/dsacademybr</a>"
      ]
    }
  ]
}