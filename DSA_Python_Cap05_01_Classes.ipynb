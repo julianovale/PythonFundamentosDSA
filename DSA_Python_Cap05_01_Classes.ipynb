{
  "nbformat": 4,
  "nbformat_minor": 0,
  "metadata": {
    "kernelspec": {
      "display_name": "Python 3",
      "language": "python",
      "name": "python3"
    },
    "language_info": {
      "codemirror_mode": {
        "name": "ipython",
        "version": 3
      },
      "file_extension": ".py",
      "mimetype": "text/x-python",
      "name": "python",
      "nbconvert_exporter": "python",
      "pygments_lexer": "ipython3",
      "version": "3.7.6"
    },
    "colab": {
      "name": "DSA-Python-Cap05-01-Classes.ipynb",
      "provenance": [],
      "include_colab_link": true
    }
  },
  "cells": [
    {
      "cell_type": "markdown",
      "metadata": {
        "id": "view-in-github",
        "colab_type": "text"
      },
      "source": [
        "<a href=\"https://colab.research.google.com/github/julianovale/PythonFundamentosDSA/blob/main/DSA_Python_Cap05_01_Classes.ipynb\" target=\"_parent\"><img src=\"https://colab.research.google.com/assets/colab-badge.svg\" alt=\"Open In Colab\"/></a>"
      ]
    },
    {
      "cell_type": "markdown",
      "metadata": {
        "id": "dk-Um7nWCo_E"
      },
      "source": [
        "# <font color='blue'>Data Science Academy - Python Fundamentos - Capítulo 5</font>\n",
        "\n",
        "## Download: http://github.com/dsacademybr"
      ]
    },
    {
      "cell_type": "code",
      "metadata": {
        "colab": {
          "base_uri": "https://localhost:8080/"
        },
        "id": "MHBtL2VLCo_Q",
        "outputId": "6ae13750-e380-4b61-baaf-b63936a72350"
      },
      "source": [
        "# Versão da Linguagem Python\n",
        "from platform import python_version\n",
        "print('Versão da Linguagem Python Usada Neste Jupyter Notebook:', python_version())"
      ],
      "execution_count": 1,
      "outputs": [
        {
          "output_type": "stream",
          "text": [
            "Versão da Linguagem Python Usada Neste Jupyter Notebook: 3.7.10\n"
          ],
          "name": "stdout"
        }
      ]
    },
    {
      "cell_type": "markdown",
      "metadata": {
        "id": "MqhvLRbUCo_S"
      },
      "source": [
        "## Classes"
      ]
    },
    {
      "cell_type": "markdown",
      "metadata": {
        "id": "7LLJRzlpCo_S"
      },
      "source": [
        "Para criar uma classe, utiliza-se a palavra reservada class. O nome da sua classe segue a mesma convenção de nomes\n",
        "para criação de funções e variáveis, mas normalmente se usa a primeira letra maiúscula em cada palavra no nome da \n",
        "classe."
      ]
    },
    {
      "cell_type": "code",
      "metadata": {
        "id": "8xtKm8OICo_T"
      },
      "source": [
        "# Criando uma classe chamada Livro\n",
        "class Livro():\n",
        "    \n",
        "    # Este método vai inicializar cada objeto criado a partir desta classe\n",
        "    # O nome deste método é __init__\n",
        "    # (self) é uma referência a cada atributo de um objeto criado a partir desta classe\n",
        "    def __init__(self):\n",
        "        \n",
        "        # Atributos de cada objeto criado a partir desta classe. \n",
        "        # O self indica que estes são atributos dos objetos\n",
        "        self.titulo = 'O Monge e o Executivo'\n",
        "        self.isbn = 9988888\n",
        "        print(\"Construtor chamado para criar um objeto desta classe\")\n",
        "        \n",
        "    # Métodos são funções, que recebem como parâmetro atributos do objeto criado    \n",
        "    def imprime(self):\n",
        "        print(\"Foi criado o livro %s e ISBN %d\" %(self.titulo, self.isbn))"
      ],
      "execution_count": 2,
      "outputs": []
    },
    {
      "cell_type": "code",
      "metadata": {
        "colab": {
          "base_uri": "https://localhost:8080/"
        },
        "id": "71nrwjZUCo_T",
        "outputId": "0ad55110-0322-4bf4-d618-cc0d413ba21d"
      },
      "source": [
        "# Criando uma instância da classe Livro\n",
        "Livro1 = Livro()"
      ],
      "execution_count": 3,
      "outputs": [
        {
          "output_type": "stream",
          "text": [
            "Construtor chamado para criar um objeto desta classe\n"
          ],
          "name": "stdout"
        }
      ]
    },
    {
      "cell_type": "code",
      "metadata": {
        "colab": {
          "base_uri": "https://localhost:8080/"
        },
        "id": "sikyRH-tCo_U",
        "outputId": "7609392b-d040-490b-e991-c019d2afcadd"
      },
      "source": [
        "# Tipo do Objeto Livro1\n",
        "type(Livro1)"
      ],
      "execution_count": 4,
      "outputs": [
        {
          "output_type": "execute_result",
          "data": {
            "text/plain": [
              "__main__.Livro"
            ]
          },
          "metadata": {
            "tags": []
          },
          "execution_count": 4
        }
      ]
    },
    {
      "cell_type": "code",
      "metadata": {
        "colab": {
          "base_uri": "https://localhost:8080/",
          "height": 35
        },
        "id": "IHlvPSg6Co_V",
        "outputId": "df8ad8af-b050-45a0-85bc-72d1f57461da"
      },
      "source": [
        "# Atributo do objeto Livro1\n",
        "Livro1.titulo"
      ],
      "execution_count": 5,
      "outputs": [
        {
          "output_type": "execute_result",
          "data": {
            "application/vnd.google.colaboratory.intrinsic+json": {
              "type": "string"
            },
            "text/plain": [
              "'O Monge e o Executivo'"
            ]
          },
          "metadata": {
            "tags": []
          },
          "execution_count": 5
        }
      ]
    },
    {
      "cell_type": "code",
      "metadata": {
        "colab": {
          "base_uri": "https://localhost:8080/"
        },
        "id": "pipvRBKhCo_V",
        "outputId": "8a8d0d3b-5812-4998-bcb0-e18158b0a071"
      },
      "source": [
        "# Método do objeto Livro1\n",
        "Livro1.imprime()"
      ],
      "execution_count": 6,
      "outputs": [
        {
          "output_type": "stream",
          "text": [
            "Foi criado o livro O Monge e o Executivo e ISBN 9988888\n"
          ],
          "name": "stdout"
        }
      ]
    },
    {
      "cell_type": "code",
      "metadata": {
        "id": "rpJYZ7arCo_W"
      },
      "source": [
        "# Criando a classe Livro com parâmetros no método construtor\n",
        "class Livro():\n",
        "    def __init__(self, titulo, isbn):\n",
        "        self.titulo = titulo\n",
        "        self.isbn = isbn\n",
        "        print(\"Construtor chamado para criar um objeto desta classe\")\n",
        "        \n",
        "    def imprime(self, titulo, isbn):\n",
        "        print(\"Este é o livro %s e ISBN %d\" %(titulo, isbn))"
      ],
      "execution_count": 28,
      "outputs": []
    },
    {
      "cell_type": "code",
      "metadata": {
        "colab": {
          "base_uri": "https://localhost:8080/"
        },
        "id": "sASlv-cNCo_W",
        "outputId": "2daad49e-fcf9-480a-a79b-458765eed343"
      },
      "source": [
        "# Criando o objeto Livro2 que é uma instância da classe Livro\n",
        "Livro2 = Livro(\"A Menina que Roubava Livros\", 77886611)"
      ],
      "execution_count": 29,
      "outputs": [
        {
          "output_type": "stream",
          "text": [
            "Construtor chamado para criar um objeto desta classe\n"
          ],
          "name": "stdout"
        }
      ]
    },
    {
      "cell_type": "code",
      "metadata": {
        "colab": {
          "base_uri": "https://localhost:8080/",
          "height": 35
        },
        "id": "smhDkDOzCo_W",
        "outputId": "89855c94-021d-4a63-84c2-da1bee285f36"
      },
      "source": [
        "Livro2.titulo"
      ],
      "execution_count": 30,
      "outputs": [
        {
          "output_type": "execute_result",
          "data": {
            "application/vnd.google.colaboratory.intrinsic+json": {
              "type": "string"
            },
            "text/plain": [
              "'A Menina que Roubava Livros'"
            ]
          },
          "metadata": {
            "tags": []
          },
          "execution_count": 30
        }
      ]
    },
    {
      "cell_type": "code",
      "metadata": {
        "colab": {
          "base_uri": "https://localhost:8080/"
        },
        "id": "xlL9AhQJD3iK",
        "outputId": "b7cd8bdf-921d-42f3-9418-e5476a165be7"
      },
      "source": [
        "Livro2.isbn"
      ],
      "execution_count": 31,
      "outputs": [
        {
          "output_type": "execute_result",
          "data": {
            "text/plain": [
              "77886611"
            ]
          },
          "metadata": {
            "tags": []
          },
          "execution_count": 31
        }
      ]
    },
    {
      "cell_type": "code",
      "metadata": {
        "colab": {
          "base_uri": "https://localhost:8080/"
        },
        "id": "rErVqObfCo_X",
        "outputId": "373ef06d-995b-4a20-d609-4e4f433aa268"
      },
      "source": [
        "# Método do objeto Livro2\n",
        "Livro2.imprime(\"A Menina que Roubava Livros\", 77886611)"
      ],
      "execution_count": 32,
      "outputs": [
        {
          "output_type": "stream",
          "text": [
            "Este é o livro A Menina que Roubava Livros e ISBN 77886611\n"
          ],
          "name": "stdout"
        }
      ]
    },
    {
      "cell_type": "code",
      "metadata": {
        "id": "lINVTJfECo_X"
      },
      "source": [
        "# Criando a classe cachorro\n",
        "class Cachorro():\n",
        "    def __init__(self, raça):\n",
        "        self.raça = raça\n",
        "        print(\"Construtor chamado para criar um objeto desta classe\")"
      ],
      "execution_count": 33,
      "outputs": []
    },
    {
      "cell_type": "code",
      "metadata": {
        "colab": {
          "base_uri": "https://localhost:8080/"
        },
        "id": "IOOhXR7NCo_Y",
        "outputId": "4edf998f-2633-4ebb-8613-4cbc215feaf1"
      },
      "source": [
        "# Criando um objeto a partir da classe cachorro\n",
        "Rex = Cachorro(raça='Labrador')"
      ],
      "execution_count": 34,
      "outputs": [
        {
          "output_type": "stream",
          "text": [
            "Construtor chamado para criar um objeto desta classe\n"
          ],
          "name": "stdout"
        }
      ]
    },
    {
      "cell_type": "code",
      "metadata": {
        "colab": {
          "base_uri": "https://localhost:8080/"
        },
        "id": "TRNBUlg1Co_Z",
        "outputId": "20912e9f-21b2-46ce-9882-fd5279e93596"
      },
      "source": [
        "# Criando um objeto a partir da classe cachorro\n",
        "Golias = Cachorro(raça='Huskie')"
      ],
      "execution_count": 35,
      "outputs": [
        {
          "output_type": "stream",
          "text": [
            "Construtor chamado para criar um objeto desta classe\n"
          ],
          "name": "stdout"
        }
      ]
    },
    {
      "cell_type": "code",
      "metadata": {
        "colab": {
          "base_uri": "https://localhost:8080/"
        },
        "id": "xJS8KiaTFuUq",
        "outputId": "51ace454-31bd-4fb5-a64f-99b0c0ac2605"
      },
      "source": [
        "Pipoca = Cachorro('SRD')"
      ],
      "execution_count": 38,
      "outputs": [
        {
          "output_type": "stream",
          "text": [
            "Construtor chamado para criar um objeto desta classe\n"
          ],
          "name": "stdout"
        }
      ]
    },
    {
      "cell_type": "code",
      "metadata": {
        "colab": {
          "base_uri": "https://localhost:8080/",
          "height": 35
        },
        "id": "JLot9_xCFzxi",
        "outputId": "a404829e-d763-4308-f391-1d99fe2fd1c8"
      },
      "source": [
        "Pipoca.raça"
      ],
      "execution_count": 39,
      "outputs": [
        {
          "output_type": "execute_result",
          "data": {
            "application/vnd.google.colaboratory.intrinsic+json": {
              "type": "string"
            },
            "text/plain": [
              "'SRD'"
            ]
          },
          "metadata": {
            "tags": []
          },
          "execution_count": 39
        }
      ]
    },
    {
      "cell_type": "code",
      "metadata": {
        "colab": {
          "base_uri": "https://localhost:8080/",
          "height": 53
        },
        "id": "pRVhk3BjF2SD",
        "outputId": "fbe7b65d-980b-4224-9f94-13a8dd169b64"
      },
      "source": [
        "Paçoca = Cachorro('Rasga saco')\r\n",
        "Paçoca.raça"
      ],
      "execution_count": 40,
      "outputs": [
        {
          "output_type": "stream",
          "text": [
            "Construtor chamado para criar um objeto desta classe\n"
          ],
          "name": "stdout"
        },
        {
          "output_type": "execute_result",
          "data": {
            "application/vnd.google.colaboratory.intrinsic+json": {
              "type": "string"
            },
            "text/plain": [
              "'Rasga saco'"
            ]
          },
          "metadata": {
            "tags": []
          },
          "execution_count": 40
        }
      ]
    },
    {
      "cell_type": "code",
      "metadata": {
        "colab": {
          "base_uri": "https://localhost:8080/",
          "height": 35
        },
        "id": "Nw30EcxECo_b",
        "outputId": "f48f453c-948b-429d-9ae8-d68e93f0d6af"
      },
      "source": [
        "# Atributo da classe cachorro, utilizado pelo objeto criado\n",
        "Rex.raça"
      ],
      "execution_count": 36,
      "outputs": [
        {
          "output_type": "execute_result",
          "data": {
            "application/vnd.google.colaboratory.intrinsic+json": {
              "type": "string"
            },
            "text/plain": [
              "'Labrador'"
            ]
          },
          "metadata": {
            "tags": []
          },
          "execution_count": 36
        }
      ]
    },
    {
      "cell_type": "code",
      "metadata": {
        "colab": {
          "base_uri": "https://localhost:8080/",
          "height": 35
        },
        "id": "0Ic0EecOCo_c",
        "outputId": "00f17b93-086f-4477-8fd4-56b7a7acc39f"
      },
      "source": [
        "# Atributo da classe cachorro, utilizado pelo objeto criado\n",
        "Golias.raça"
      ],
      "execution_count": 37,
      "outputs": [
        {
          "output_type": "execute_result",
          "data": {
            "application/vnd.google.colaboratory.intrinsic+json": {
              "type": "string"
            },
            "text/plain": [
              "'Huskie'"
            ]
          },
          "metadata": {
            "tags": []
          },
          "execution_count": 37
        }
      ]
    },
    {
      "cell_type": "markdown",
      "metadata": {
        "id": "EDO2-NQuCo_d"
      },
      "source": [
        "# Fim"
      ]
    },
    {
      "cell_type": "markdown",
      "metadata": {
        "id": "movMucBOCo_d"
      },
      "source": [
        "### Obrigado - Data Science Academy - <a href=\"http://facebook.com/dsacademybr\">facebook.com/dsacademybr</a>"
      ]
    }
  ]
}