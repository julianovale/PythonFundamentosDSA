{
  "nbformat": 4,
  "nbformat_minor": 0,
  "metadata": {
    "colab": {
      "name": "DSA_Python_Cap03_Lab02_Calculadora.ipynb",
      "provenance": [],
      "collapsed_sections": [],
      "authorship_tag": "ABX9TyP/gp7Hz6QsxAB/UEQCwf/S",
      "include_colab_link": true
    },
    "kernelspec": {
      "name": "python3",
      "display_name": "Python 3"
    }
  },
  "cells": [
    {
      "cell_type": "markdown",
      "metadata": {
        "id": "view-in-github",
        "colab_type": "text"
      },
      "source": [
        "<a href=\"https://colab.research.google.com/github/julianovale/PythonFundamentosDSA/blob/main/DSA_Python_Cap03_Lab02_Calculadora.ipynb\" target=\"_parent\"><img src=\"https://colab.research.google.com/assets/colab-badge.svg\" alt=\"Open In Colab\"/></a>"
      ]
    },
    {
      "cell_type": "code",
      "metadata": {
        "colab": {
          "base_uri": "https://localhost:8080/"
        },
        "id": "paCicvfc_Lu2",
        "outputId": "ef8e061b-cba2-4618-ef34-8a1943ac9a82"
      },
      "source": [
        "def soma(a,b):\r\n",
        "  print('{} + {} = {}'.format(a,b,a+b))\r\n",
        "\r\n",
        "def subtracao(a,b):\r\n",
        "  print('{} - {} = {}'.format(a,b,a-b))\r\n",
        "\r\n",
        "def multiplicacao(a,b):\r\n",
        "  print('{} * {} = {}'.format(a,b,a*b))\r\n",
        "\r\n",
        "def divisao(a,b):\r\n",
        "  print('{} / {} = {}'.format(a,b,a/b))\r\n",
        "\r\n",
        "print('************ Calculadora Tabajara ************')\r\n",
        "print()\r\n",
        "print('1 - Soma')\r\n",
        "print('2 - Subtração')\r\n",
        "print('3 - Multiplicação')\r\n",
        "print('4 - Divisão')\r\n",
        "print()\r\n",
        "opcao = input(\"Entre com a opção (1, 2, 3 ou 4): \")\r\n",
        "\r\n",
        "if (opcao == '1'):\r\n",
        "  a = int(input('Entre com o primeiro valor: '))\r\n",
        "  b = int(input('Entre com o segundo valor: '))\r\n",
        "  soma(a,b)\r\n",
        "\r\n",
        "elif (opcao == '2'):\r\n",
        "  a = int(input('Entre com o primeiro valor: '))\r\n",
        "  b = int(input('Entre com o segundo valor: '))\r\n",
        "  subtracao(a,b)\r\n",
        "\r\n",
        "elif (opcao == '3'):\r\n",
        "  a = int(input('Entre com o primeiro valor: '))\r\n",
        "  b = int(input('Entre com o segundo valor: '))\r\n",
        "  multiplicacao(a,b)\r\n",
        "\r\n",
        "elif (opcao == '4'):\r\n",
        "  a = int(input('Entre com o primeiro valor: '))\r\n",
        "  b = int(input('Entre com o segundo valor: '))\r\n",
        "  divisao(a,b)\r\n",
        "\r\n",
        "else:\r\n",
        "  print('Opção inválida, tente novamente!')"
      ],
      "execution_count": 10,
      "outputs": [
        {
          "output_type": "stream",
          "text": [
            "************ Calculadora Tabajara ************\n",
            "\n",
            "1 - Soma\n",
            "2 - Subtração\n",
            "3 - Multiplicação\n",
            "4 - Divisão\n",
            "\n",
            "Entre com a opção (1, 2, 3 ou 4): 3\n",
            "Entre com o primeiro valor: 20\n",
            "Entre com o segundo valor: 50\n",
            "20 * 50 = 1000\n"
          ],
          "name": "stdout"
        }
      ]
    }
  ]
}