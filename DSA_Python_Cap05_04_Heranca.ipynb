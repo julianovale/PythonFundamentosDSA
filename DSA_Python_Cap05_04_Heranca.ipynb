{
  "nbformat": 4,
  "nbformat_minor": 0,
  "metadata": {
    "kernelspec": {
      "display_name": "Python 3",
      "language": "python",
      "name": "python3"
    },
    "language_info": {
      "codemirror_mode": {
        "name": "ipython",
        "version": 3
      },
      "file_extension": ".py",
      "mimetype": "text/x-python",
      "name": "python",
      "nbconvert_exporter": "python",
      "pygments_lexer": "ipython3",
      "version": "3.7.6"
    },
    "colab": {
      "name": "DSA-Python-Cap05-04-Heranca.ipynb",
      "provenance": [],
      "include_colab_link": true
    }
  },
  "cells": [
    {
      "cell_type": "markdown",
      "metadata": {
        "id": "view-in-github",
        "colab_type": "text"
      },
      "source": [
        "<a href=\"https://colab.research.google.com/github/julianovale/PythonFundamentosDSA/blob/main/DSA_Python_Cap05_04_Heranca.ipynb\" target=\"_parent\"><img src=\"https://colab.research.google.com/assets/colab-badge.svg\" alt=\"Open In Colab\"/></a>"
      ]
    },
    {
      "cell_type": "markdown",
      "metadata": {
        "id": "R6u5CyDcjQUc"
      },
      "source": [
        "# <font color='blue'>Data Science Academy - Python Fundamentos - Capítulo 5</font>\n",
        "\n",
        "## Download: http://github.com/dsacademybr"
      ]
    },
    {
      "cell_type": "code",
      "metadata": {
        "colab": {
          "base_uri": "https://localhost:8080/"
        },
        "id": "sjLOw0ONjQUg",
        "outputId": "0126b260-4c1e-4fd8-f5b1-829f91dbc73b"
      },
      "source": [
        "# Versão da Linguagem Python\n",
        "from platform import python_version\n",
        "print('Versão da Linguagem Python Usada Neste Jupyter Notebook:', python_version())"
      ],
      "execution_count": 16,
      "outputs": [
        {
          "output_type": "stream",
          "text": [
            "Versão da Linguagem Python Usada Neste Jupyter Notebook: 3.7.10\n"
          ],
          "name": "stdout"
        }
      ]
    },
    {
      "cell_type": "markdown",
      "metadata": {
        "id": "xRMEgbNwjQUh"
      },
      "source": [
        "## Herança"
      ]
    },
    {
      "cell_type": "code",
      "metadata": {
        "id": "J9bjE9q6jQUi"
      },
      "source": [
        "# Criando a classe Animal - Super-classe\n",
        "class Animal():\n",
        "    \n",
        "    def __init__(self):\n",
        "        print(\"Animal criado\")\n",
        "\n",
        "    def Identif(self):\n",
        "        print(\"Animal\")\n",
        "\n",
        "    def comer(self):\n",
        "        print(\"Comendo\")\n",
        "\n",
        "    def beber(self):\n",
        "        print(\"Bebendo\")"
      ],
      "execution_count": 17,
      "outputs": []
    },
    {
      "cell_type": "code",
      "metadata": {
        "id": "zl0cLVl4jQUj"
      },
      "source": [
        "# Criando a classe Cachorro - Sub-classe\n",
        "class Cachorro(Animal):\n",
        "    \n",
        "    def __init__(self):\n",
        "        Animal.__init__(self)\n",
        "        print(\"Objeto Cachorro criado\")\n",
        "\n",
        "    def Identif(self):\n",
        "        print(\"Cachorro\")\n",
        "\n",
        "    def latir(self):\n",
        "        print(\"Au Au!\")"
      ],
      "execution_count": 18,
      "outputs": []
    },
    {
      "cell_type": "code",
      "metadata": {
        "colab": {
          "base_uri": "https://localhost:8080/"
        },
        "id": "jVP9ubUsjQUj",
        "outputId": "35572b38-1c75-48f0-b60e-c246744865a1"
      },
      "source": [
        "# Criando um objeto (Instanciando a classe)\n",
        "rex = Cachorro()"
      ],
      "execution_count": 19,
      "outputs": [
        {
          "output_type": "stream",
          "text": [
            "Animal criado\n",
            "Objeto Cachorro criado\n"
          ],
          "name": "stdout"
        }
      ]
    },
    {
      "cell_type": "code",
      "metadata": {
        "colab": {
          "base_uri": "https://localhost:8080/"
        },
        "id": "YFG3-yV5jQUk",
        "outputId": "72822787-28be-4ffd-d926-818981f833fa"
      },
      "source": [
        "# Executando o método da classe Cachorro (sub-classe)\n",
        "rex.Identif()"
      ],
      "execution_count": 20,
      "outputs": [
        {
          "output_type": "stream",
          "text": [
            "Cachorro\n"
          ],
          "name": "stdout"
        }
      ]
    },
    {
      "cell_type": "code",
      "metadata": {
        "colab": {
          "base_uri": "https://localhost:8080/"
        },
        "id": "by7Mr1rhjQUl",
        "outputId": "d259968e-4c27-4a7d-f5cc-e0f7ba18253f"
      },
      "source": [
        "# Executando o método da classe Animal (super-classe)\n",
        "rex.comer()"
      ],
      "execution_count": 21,
      "outputs": [
        {
          "output_type": "stream",
          "text": [
            "Comendo\n"
          ],
          "name": "stdout"
        }
      ]
    },
    {
      "cell_type": "code",
      "metadata": {
        "colab": {
          "base_uri": "https://localhost:8080/"
        },
        "id": "8ZrOQE8IjQUm",
        "outputId": "8ea28afd-9755-4725-e7fb-e65ea7051efe"
      },
      "source": [
        "# Executando o método da classe Cachorro (sub-classe)\n",
        "rex.latir()"
      ],
      "execution_count": 22,
      "outputs": [
        {
          "output_type": "stream",
          "text": [
            "Au Au!\n"
          ],
          "name": "stdout"
        }
      ]
    },
    {
      "cell_type": "code",
      "metadata": {
        "colab": {
          "base_uri": "https://localhost:8080/"
        },
        "id": "-5neUNjAkiLO",
        "outputId": "94f30136-d027-4684-a2da-bbd2adede83c"
      },
      "source": [
        "rex.beber()"
      ],
      "execution_count": 23,
      "outputs": [
        {
          "output_type": "stream",
          "text": [
            "Bebendo\n"
          ],
          "name": "stdout"
        }
      ]
    },
    {
      "cell_type": "markdown",
      "metadata": {
        "id": "pKc0mPtCjQUn"
      },
      "source": [
        "# Fim"
      ]
    },
    {
      "cell_type": "markdown",
      "metadata": {
        "id": "vRAb-6GfjQUn"
      },
      "source": [
        "### Obrigado - Data Science Academy - <a href=\"http://facebook.com/dsacademybr\">facebook.com/dsacademybr</a>"
      ]
    }
  ]
}