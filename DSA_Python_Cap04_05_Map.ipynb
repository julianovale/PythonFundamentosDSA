{
  "nbformat": 4,
  "nbformat_minor": 0,
  "metadata": {
    "kernelspec": {
      "display_name": "Python 3",
      "language": "python",
      "name": "python3"
    },
    "language_info": {
      "codemirror_mode": {
        "name": "ipython",
        "version": 3
      },
      "file_extension": ".py",
      "mimetype": "text/x-python",
      "name": "python",
      "nbconvert_exporter": "python",
      "pygments_lexer": "ipython3",
      "version": "3.7.6"
    },
    "colab": {
      "name": "DSA-Python-Cap04-05-Map.ipynb",
      "provenance": [],
      "include_colab_link": true
    }
  },
  "cells": [
    {
      "cell_type": "markdown",
      "metadata": {
        "id": "view-in-github",
        "colab_type": "text"
      },
      "source": [
        "<a href=\"https://colab.research.google.com/github/julianovale/PythonFundamentosDSA/blob/main/DSA_Python_Cap04_05_Map.ipynb\" target=\"_parent\"><img src=\"https://colab.research.google.com/assets/colab-badge.svg\" alt=\"Open In Colab\"/></a>"
      ]
    },
    {
      "cell_type": "markdown",
      "metadata": {
        "id": "tWckDgSDJ9i0"
      },
      "source": [
        "# <font color='blue'>Data Science Academy - Python Fundamentos - Capítulo 4</font>\n",
        "\n",
        "## Download: http://github.com/dsacademybr"
      ]
    },
    {
      "cell_type": "code",
      "metadata": {
        "colab": {
          "base_uri": "https://localhost:8080/"
        },
        "id": "bJW0deP6J9jC",
        "outputId": "350bbf70-1132-43c7-9606-ad1eab9d765c"
      },
      "source": [
        "# Versão da Linguagem Python\n",
        "from platform import python_version\n",
        "print('Versão da Linguagem Python Usada Neste Jupyter Notebook:', python_version())"
      ],
      "execution_count": 1,
      "outputs": [
        {
          "output_type": "stream",
          "text": [
            "Versão da Linguagem Python Usada Neste Jupyter Notebook: 3.7.10\n"
          ],
          "name": "stdout"
        }
      ]
    },
    {
      "cell_type": "markdown",
      "metadata": {
        "id": "83DFEP_-J9jF"
      },
      "source": [
        "## Map"
      ]
    },
    {
      "cell_type": "code",
      "metadata": {
        "id": "6e2FnIOjJ9jG"
      },
      "source": [
        "# Criando duas funções\n",
        "\n",
        "# Função 1 - Recebe uma temperatura como parâmetro e retorna a temperatura em Fahrenheit\n",
        "def fahrenheit(T):\n",
        "    return ((float(9)/5)*T + 32)\n",
        "\n",
        "# Função 2 - Recebe uma temperatura como parâmetro e retorna a temperatura em Celsius\n",
        "def celsius(T):\n",
        "    return (float(5)/9)*(T-32)"
      ],
      "execution_count": 2,
      "outputs": []
    },
    {
      "cell_type": "code",
      "metadata": {
        "id": "pFZ6W-hcJ9jG"
      },
      "source": [
        "# Criando uma lista\n",
        "temperaturas = [0, 22.5, 40, 100]"
      ],
      "execution_count": 3,
      "outputs": []
    },
    {
      "cell_type": "code",
      "metadata": {
        "colab": {
          "base_uri": "https://localhost:8080/"
        },
        "id": "rPwVIsOhJ9jH",
        "outputId": "59a8d05f-4ea4-449b-8c82-e44509f69820"
      },
      "source": [
        "# Aplicando a função a cada elemento da lista de temperaturas. \n",
        "# Em Python 3, a funçãp map() retornar um iterator\n",
        "map(fahrenheit, temperaturas)"
      ],
      "execution_count": 4,
      "outputs": [
        {
          "output_type": "execute_result",
          "data": {
            "text/plain": [
              "<map at 0x7f9689c9d6d0>"
            ]
          },
          "metadata": {
            "tags": []
          },
          "execution_count": 4
        }
      ]
    },
    {
      "cell_type": "code",
      "metadata": {
        "colab": {
          "base_uri": "https://localhost:8080/"
        },
        "id": "YchlHVhjJ9jI",
        "outputId": "40ea265b-a048-4565-9fe3-dade71f29b5c"
      },
      "source": [
        "# Função map() reotrnando a lista de temperaturas convertidas em Fahrenheit\n",
        "list(map(fahrenheit, temperaturas))"
      ],
      "execution_count": 11,
      "outputs": [
        {
          "output_type": "execute_result",
          "data": {
            "text/plain": [
              "[32.0, 72.5, 104.0, 212.0]"
            ]
          },
          "metadata": {
            "tags": []
          },
          "execution_count": 11
        }
      ]
    },
    {
      "cell_type": "code",
      "metadata": {
        "colab": {
          "base_uri": "https://localhost:8080/"
        },
        "id": "IEXEHAsXKZGO",
        "outputId": "a96aa44c-adc0-4f63-d894-548d50de9221"
      },
      "source": [
        "teste = list(map(fahrenheit, temperaturas))\r\n",
        "teste[1]"
      ],
      "execution_count": 13,
      "outputs": [
        {
          "output_type": "execute_result",
          "data": {
            "text/plain": [
              "72.5"
            ]
          },
          "metadata": {
            "tags": []
          },
          "execution_count": 13
        }
      ]
    },
    {
      "cell_type": "code",
      "metadata": {
        "colab": {
          "base_uri": "https://localhost:8080/"
        },
        "id": "liOiyN1mJ9jI",
        "outputId": "bc67f657-0bc4-4a8d-e700-3df2f66ea907"
      },
      "source": [
        "# Usando um loop for para imprimir o resultado da função map()\n",
        "for temp in map(fahrenheit, temperaturas):\n",
        "    print(temp)"
      ],
      "execution_count": 8,
      "outputs": [
        {
          "output_type": "stream",
          "text": [
            "32.0\n",
            "72.5\n",
            "104.0\n",
            "212.0\n"
          ],
          "name": "stdout"
        }
      ]
    },
    {
      "cell_type": "code",
      "metadata": {
        "colab": {
          "base_uri": "https://localhost:8080/"
        },
        "id": "TOxrmOAtJ9jJ",
        "outputId": "b2a368c8-5789-4201-f6fa-b31af622c915"
      },
      "source": [
        "# Convertendo para Celsius\n",
        "map(celsius, temperaturas)"
      ],
      "execution_count": 9,
      "outputs": [
        {
          "output_type": "execute_result",
          "data": {
            "text/plain": [
              "<map at 0x7f968a58c910>"
            ]
          },
          "metadata": {
            "tags": []
          },
          "execution_count": 9
        }
      ]
    },
    {
      "cell_type": "code",
      "metadata": {
        "colab": {
          "base_uri": "https://localhost:8080/"
        },
        "id": "LFFgRts5J9jJ",
        "outputId": "104c7bc6-5a21-4142-ea2a-3db558deaf6c"
      },
      "source": [
        "list(map(celsius, temperaturas))"
      ],
      "execution_count": 10,
      "outputs": [
        {
          "output_type": "execute_result",
          "data": {
            "text/plain": [
              "[-17.77777777777778, -5.277777777777778, 4.444444444444445, 37.77777777777778]"
            ]
          },
          "metadata": {
            "tags": []
          },
          "execution_count": 10
        }
      ]
    },
    {
      "cell_type": "code",
      "metadata": {
        "id": "kQBrcZ5-J9jK",
        "outputId": "f6ffdfcc-ea32-435b-e89b-7728f5f0c7a6"
      },
      "source": [
        "# Usando lambda\n",
        "map(lambda x: (5.0/9)*(x - 32), temperaturas)"
      ],
      "execution_count": null,
      "outputs": [
        {
          "output_type": "execute_result",
          "data": {
            "text/plain": [
              "<map at 0x111b00450>"
            ]
          },
          "metadata": {
            "tags": []
          },
          "execution_count": 9
        }
      ]
    },
    {
      "cell_type": "code",
      "metadata": {
        "id": "zn6xgNweJ9jL",
        "outputId": "051f8e50-8dfe-43a1-c7b6-dd2bbd5b2aba"
      },
      "source": [
        "list(map(lambda x: (5.0/9)*(x - 32), temperaturas))"
      ],
      "execution_count": null,
      "outputs": [
        {
          "output_type": "execute_result",
          "data": {
            "text/plain": [
              "[-17.77777777777778, -5.277777777777778, 4.444444444444445, 37.77777777777778]"
            ]
          },
          "metadata": {
            "tags": []
          },
          "execution_count": 10
        }
      ]
    },
    {
      "cell_type": "code",
      "metadata": {
        "id": "1GRT6iO9J9jO"
      },
      "source": [
        "# Somando os elementos de 2 listas\n",
        "a = [1,2,3,4]\n",
        "b = [5,6,7,8]"
      ],
      "execution_count": 14,
      "outputs": []
    },
    {
      "cell_type": "code",
      "metadata": {
        "colab": {
          "base_uri": "https://localhost:8080/"
        },
        "id": "okPgfa8EJ9jP",
        "outputId": "26f35b7b-4498-4ba1-866d-b11dfcf04a58"
      },
      "source": [
        "list(map(lambda x,y:x+y, a, b))"
      ],
      "execution_count": 15,
      "outputs": [
        {
          "output_type": "execute_result",
          "data": {
            "text/plain": [
              "[6, 8, 10, 12]"
            ]
          },
          "metadata": {
            "tags": []
          },
          "execution_count": 15
        }
      ]
    },
    {
      "cell_type": "code",
      "metadata": {
        "id": "rGvzoNCGJ9jP"
      },
      "source": [
        "# Somando os elementos de 3 listas\n",
        "a = [1,2,3,4]\n",
        "b = [5,6,7,8]\n",
        "c = [9,10,11,12]"
      ],
      "execution_count": 16,
      "outputs": []
    },
    {
      "cell_type": "code",
      "metadata": {
        "colab": {
          "base_uri": "https://localhost:8080/"
        },
        "id": "kQhcaUE0J9jQ",
        "outputId": "dbeed5c1-08e2-42ea-da1f-97a83d85149d"
      },
      "source": [
        "list(map(lambda x,y,z:x+y+z, a, b, c))"
      ],
      "execution_count": 17,
      "outputs": [
        {
          "output_type": "execute_result",
          "data": {
            "text/plain": [
              "[15, 18, 21, 24]"
            ]
          },
          "metadata": {
            "tags": []
          },
          "execution_count": 17
        }
      ]
    },
    {
      "cell_type": "markdown",
      "metadata": {
        "id": "mmtK_cxrJ9jQ"
      },
      "source": [
        "# Fim"
      ]
    },
    {
      "cell_type": "markdown",
      "metadata": {
        "id": "HhBKzocQJ9jR"
      },
      "source": [
        "### Obrigado - Data Science Academy - <a href=\"http://facebook.com/dsacademybr\">facebook.com/dsacademybr</a>"
      ]
    }
  ]
}