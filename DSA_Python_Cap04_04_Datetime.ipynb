{
  "nbformat": 4,
  "nbformat_minor": 0,
  "metadata": {
    "kernelspec": {
      "display_name": "Python 3",
      "language": "python",
      "name": "python3"
    },
    "language_info": {
      "codemirror_mode": {
        "name": "ipython",
        "version": 3
      },
      "file_extension": ".py",
      "mimetype": "text/x-python",
      "name": "python",
      "nbconvert_exporter": "python",
      "pygments_lexer": "ipython3",
      "version": "3.7.6"
    },
    "colab": {
      "name": "DSA-Python-Cap04-04-Datetime.ipynb",
      "provenance": [],
      "include_colab_link": true
    }
  },
  "cells": [
    {
      "cell_type": "markdown",
      "metadata": {
        "id": "view-in-github",
        "colab_type": "text"
      },
      "source": [
        "<a href=\"https://colab.research.google.com/github/julianovale/PythonFundamentosDSA/blob/main/DSA_Python_Cap04_04_Datetime.ipynb\" target=\"_parent\"><img src=\"https://colab.research.google.com/assets/colab-badge.svg\" alt=\"Open In Colab\"/></a>"
      ]
    },
    {
      "cell_type": "markdown",
      "metadata": {
        "id": "msjytJ_iIhMc"
      },
      "source": [
        "# <font color='blue'>Data Science Academy - Python Fundamentos - Capítulo 4</font>\n",
        "\n",
        "## Download: http://github.com/dsacademybr"
      ]
    },
    {
      "cell_type": "code",
      "metadata": {
        "colab": {
          "base_uri": "https://localhost:8080/"
        },
        "id": "bbl9kNwbIhM2",
        "outputId": "417b753b-d564-4381-83c5-491686f66f92"
      },
      "source": [
        "# Versão da Linguagem Python\n",
        "from platform import python_version\n",
        "print('Versão da Linguagem Python Usada Neste Jupyter Notebook:', python_version())"
      ],
      "execution_count": 1,
      "outputs": [
        {
          "output_type": "stream",
          "text": [
            "Versão da Linguagem Python Usada Neste Jupyter Notebook: 3.7.10\n"
          ],
          "name": "stdout"
        }
      ]
    },
    {
      "cell_type": "markdown",
      "metadata": {
        "id": "Rj-Dm2-ZIhM9"
      },
      "source": [
        "## Datetime\n",
        "Esse módulo permite a manipulação de datas em Python."
      ]
    },
    {
      "cell_type": "code",
      "metadata": {
        "id": "_ENVkkf0IhM-"
      },
      "source": [
        "import datetime"
      ],
      "execution_count": 2,
      "outputs": []
    },
    {
      "cell_type": "code",
      "metadata": {
        "id": "i5YSsfiqIhNA"
      },
      "source": [
        "agora = datetime.datetime.now()"
      ],
      "execution_count": 3,
      "outputs": []
    },
    {
      "cell_type": "code",
      "metadata": {
        "colab": {
          "base_uri": "https://localhost:8080/"
        },
        "id": "4FLGjumJIhNB",
        "outputId": "55931e8a-d3bd-4bbe-98b9-49c41081e9b6"
      },
      "source": [
        "agora"
      ],
      "execution_count": 5,
      "outputs": [
        {
          "output_type": "execute_result",
          "data": {
            "text/plain": [
              "datetime.datetime(2021, 3, 5, 2, 5, 51, 38854)"
            ]
          },
          "metadata": {
            "tags": []
          },
          "execution_count": 5
        }
      ]
    },
    {
      "cell_type": "code",
      "metadata": {
        "id": "Z78K5-YRIhNC"
      },
      "source": [
        "t = datetime.time(7, 43, 28)"
      ],
      "execution_count": 6,
      "outputs": []
    },
    {
      "cell_type": "code",
      "metadata": {
        "colab": {
          "base_uri": "https://localhost:8080/"
        },
        "id": "kwky-8jAIhND",
        "outputId": "c48c6252-bd65-43b0-9a86-4060dd76ef6d"
      },
      "source": [
        "print (t)"
      ],
      "execution_count": 7,
      "outputs": [
        {
          "output_type": "stream",
          "text": [
            "07:43:28\n"
          ],
          "name": "stdout"
        }
      ]
    },
    {
      "cell_type": "code",
      "metadata": {
        "colab": {
          "base_uri": "https://localhost:8080/"
        },
        "id": "wuZ48FSNIhNE",
        "outputId": "5a611283-27e3-410a-c195-df106fda9a3a"
      },
      "source": [
        "print ('Hora  :', t.hour)\n",
        "print ('Minute:', t.minute)\n",
        "print ('Segundo:', t.second)\n",
        "print ('Microsegundo:', t.microsecond)"
      ],
      "execution_count": 8,
      "outputs": [
        {
          "output_type": "stream",
          "text": [
            "Hora  : 7\n",
            "Minute: 43\n",
            "Segundo: 28\n",
            "Microsegundo: 0\n"
          ],
          "name": "stdout"
        }
      ]
    },
    {
      "cell_type": "code",
      "metadata": {
        "colab": {
          "base_uri": "https://localhost:8080/"
        },
        "id": "18UJUyUzIhNF",
        "outputId": "9157e6cc-f59f-4184-e32a-32e0af5b7177"
      },
      "source": [
        "print(datetime.time.min)"
      ],
      "execution_count": 9,
      "outputs": [
        {
          "output_type": "stream",
          "text": [
            "00:00:00\n"
          ],
          "name": "stdout"
        }
      ]
    },
    {
      "cell_type": "code",
      "metadata": {
        "id": "N5bCNISiIhNG"
      },
      "source": [
        "hoje = datetime.date.today()"
      ],
      "execution_count": 10,
      "outputs": []
    },
    {
      "cell_type": "code",
      "metadata": {
        "colab": {
          "base_uri": "https://localhost:8080/"
        },
        "id": "L6akH2jZIhNH",
        "outputId": "5cc7ac59-76ee-4a07-b779-d442d708feb9"
      },
      "source": [
        "print (hoje)\n",
        "print ('ctime:', hoje.ctime())\n",
        "print ('Ano:', hoje.year)\n",
        "print ('Mês :', hoje.month)\n",
        "print ('Dia :', hoje.day)"
      ],
      "execution_count": 11,
      "outputs": [
        {
          "output_type": "stream",
          "text": [
            "2021-03-05\n",
            "ctime: Fri Mar  5 00:00:00 2021\n",
            "Ano: 2021\n",
            "Mês : 3\n",
            "Dia : 5\n"
          ],
          "name": "stdout"
        }
      ]
    },
    {
      "cell_type": "code",
      "metadata": {
        "colab": {
          "base_uri": "https://localhost:8080/"
        },
        "id": "mf2eWDyLIhNI",
        "outputId": "47fe86b2-ffd6-4026-aa75-888400d59370"
      },
      "source": [
        "d1 = datetime.date(2015, 4, 28)\n",
        "print ('d1:', d1)"
      ],
      "execution_count": 12,
      "outputs": [
        {
          "output_type": "stream",
          "text": [
            "d1: 2015-04-28\n"
          ],
          "name": "stdout"
        }
      ]
    },
    {
      "cell_type": "code",
      "metadata": {
        "colab": {
          "base_uri": "https://localhost:8080/"
        },
        "id": "AExLGgZ9IhNJ",
        "outputId": "26d996db-4fae-4102-db34-4bfc28b5c9fe"
      },
      "source": [
        "d2 = d1.replace(year=2016)\n",
        "print ('d2:', d2)"
      ],
      "execution_count": 13,
      "outputs": [
        {
          "output_type": "stream",
          "text": [
            "d2: 2016-04-28\n"
          ],
          "name": "stdout"
        }
      ]
    },
    {
      "cell_type": "code",
      "metadata": {
        "colab": {
          "base_uri": "https://localhost:8080/"
        },
        "id": "8lMpUr_vIhNK",
        "outputId": "1b274aeb-7bd9-4f19-f14f-102d66110113"
      },
      "source": [
        "# Diferença em dias entre duas datas\n",
        "d2 - d1"
      ],
      "execution_count": 14,
      "outputs": [
        {
          "output_type": "execute_result",
          "data": {
            "text/plain": [
              "datetime.timedelta(days=366)"
            ]
          },
          "metadata": {
            "tags": []
          },
          "execution_count": 14
        }
      ]
    },
    {
      "cell_type": "markdown",
      "metadata": {
        "id": "v9fPfsp1IhNL"
      },
      "source": [
        "# FIM"
      ]
    },
    {
      "cell_type": "markdown",
      "metadata": {
        "id": "Bc3dI8TzIhNO"
      },
      "source": [
        "### Obrigado - Data Science Academy - <a href=\"http://facebook.com/dsacademybr\">facebook.com/dsacademybr</a>"
      ]
    }
  ]
}