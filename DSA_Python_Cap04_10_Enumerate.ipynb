{
  "nbformat": 4,
  "nbformat_minor": 0,
  "metadata": {
    "kernelspec": {
      "display_name": "Python 3",
      "language": "python",
      "name": "python3"
    },
    "language_info": {
      "codemirror_mode": {
        "name": "ipython",
        "version": 3
      },
      "file_extension": ".py",
      "mimetype": "text/x-python",
      "name": "python",
      "nbconvert_exporter": "python",
      "pygments_lexer": "ipython3",
      "version": "3.7.6"
    },
    "colab": {
      "name": "DSA-Python-Cap04-10-Enumerate.ipynb",
      "provenance": [],
      "include_colab_link": true
    }
  },
  "cells": [
    {
      "cell_type": "markdown",
      "metadata": {
        "id": "view-in-github",
        "colab_type": "text"
      },
      "source": [
        "<a href=\"https://colab.research.google.com/github/julianovale/PythonFundamentosDSA/blob/main/DSA_Python_Cap04_10_Enumerate.ipynb\" target=\"_parent\"><img src=\"https://colab.research.google.com/assets/colab-badge.svg\" alt=\"Open In Colab\"/></a>"
      ]
    },
    {
      "cell_type": "markdown",
      "metadata": {
        "id": "W2DeoD8e3Lyz"
      },
      "source": [
        "# <font color='blue'>Data Science Academy - Python Fundamentos - Capítulo 4</font>\n",
        "\n",
        "## Download: http://github.com/dsacademybr"
      ]
    },
    {
      "cell_type": "code",
      "metadata": {
        "id": "ScwFSqN53LzD",
        "outputId": "1b2db93a-c05e-42b6-9032-e3df368fdec0"
      },
      "source": [
        "# Versão da Linguagem Python\n",
        "from platform import python_version\n",
        "print('Versão da Linguagem Python Usada Neste Jupyter Notebook:', python_version())"
      ],
      "execution_count": null,
      "outputs": [
        {
          "output_type": "stream",
          "text": [
            "Versão da Linguagem Python Usada Neste Jupyter Notebook: 3.7.6\n"
          ],
          "name": "stdout"
        }
      ]
    },
    {
      "cell_type": "markdown",
      "metadata": {
        "id": "KsHNeiSe3LzH"
      },
      "source": [
        "## Enumerate"
      ]
    },
    {
      "cell_type": "code",
      "metadata": {
        "id": "0KbKR5Tx3LzI"
      },
      "source": [
        "# Criando uma lista\n",
        "seq = ['a','b','c']"
      ],
      "execution_count": 1,
      "outputs": []
    },
    {
      "cell_type": "code",
      "metadata": {
        "colab": {
          "base_uri": "https://localhost:8080/"
        },
        "id": "Ny9DVug93LzJ",
        "outputId": "4c156a66-7467-44a6-a124-f66d69e4a5ed"
      },
      "source": [
        "enumerate(seq)"
      ],
      "execution_count": 2,
      "outputs": [
        {
          "output_type": "execute_result",
          "data": {
            "text/plain": [
              "<enumerate at 0x7fcb5645ee10>"
            ]
          },
          "metadata": {
            "tags": []
          },
          "execution_count": 2
        }
      ]
    },
    {
      "cell_type": "code",
      "metadata": {
        "colab": {
          "base_uri": "https://localhost:8080/"
        },
        "id": "GJ-wgKB-3LzL",
        "outputId": "b8be975b-c98f-4491-b1c9-f817539dba4a"
      },
      "source": [
        "list(enumerate(seq))"
      ],
      "execution_count": 3,
      "outputs": [
        {
          "output_type": "execute_result",
          "data": {
            "text/plain": [
              "[(0, 'a'), (1, 'b'), (2, 'c')]"
            ]
          },
          "metadata": {
            "tags": []
          },
          "execution_count": 3
        }
      ]
    },
    {
      "cell_type": "code",
      "metadata": {
        "colab": {
          "base_uri": "https://localhost:8080/"
        },
        "id": "_4owC-jV3LzM",
        "outputId": "b10d8ea8-52a5-48df-d250-99e9b960d19a"
      },
      "source": [
        "# Imprimindo os valores de uma lista com a função enumerate() e seus respectivos índices\n",
        "for indice, valor in enumerate(seq):\n",
        "    print (indice, valor)"
      ],
      "execution_count": 4,
      "outputs": [
        {
          "output_type": "stream",
          "text": [
            "0 a\n",
            "1 b\n",
            "2 c\n"
          ],
          "name": "stdout"
        }
      ]
    },
    {
      "cell_type": "code",
      "metadata": {
        "colab": {
          "base_uri": "https://localhost:8080/"
        },
        "id": "d8tqGGOR3Lzi",
        "outputId": "2d99c568-433e-4bc5-a57b-abe1104cc675"
      },
      "source": [
        "for indice, valor in enumerate(seq):\n",
        "    if indice >= 2:\n",
        "        break\n",
        "    else:\n",
        "        print (indice,valor)"
      ],
      "execution_count": 6,
      "outputs": [
        {
          "output_type": "stream",
          "text": [
            "0 a\n",
            "1 b\n"
          ],
          "name": "stdout"
        }
      ]
    },
    {
      "cell_type": "code",
      "metadata": {
        "id": "eWhiajvR3Lzj"
      },
      "source": [
        "lista = ['Marketing', 'Tecnologia', 'Business']"
      ],
      "execution_count": 7,
      "outputs": []
    },
    {
      "cell_type": "code",
      "metadata": {
        "colab": {
          "base_uri": "https://localhost:8080/"
        },
        "id": "_HziAVRC3Lzk",
        "outputId": "8e0c7ef3-4179-4ae3-b14f-2f8840d37e43"
      },
      "source": [
        "for i, item in enumerate(lista):\n",
        "    print(i, item)"
      ],
      "execution_count": 8,
      "outputs": [
        {
          "output_type": "stream",
          "text": [
            "0 Marketing\n",
            "1 Tecnologia\n",
            "2 Business\n"
          ],
          "name": "stdout"
        }
      ]
    },
    {
      "cell_type": "code",
      "metadata": {
        "colab": {
          "base_uri": "https://localhost:8080/"
        },
        "id": "iuf7p4CC3Lzp",
        "outputId": "96ad93e8-b0a2-43b1-b050-440597f0dadb"
      },
      "source": [
        "for i, item in enumerate('Isso é uma string'):\n",
        "    print(i, item)"
      ],
      "execution_count": 9,
      "outputs": [
        {
          "output_type": "stream",
          "text": [
            "0 I\n",
            "1 s\n",
            "2 s\n",
            "3 o\n",
            "4  \n",
            "5 é\n",
            "6  \n",
            "7 u\n",
            "8 m\n",
            "9 a\n",
            "10  \n",
            "11 s\n",
            "12 t\n",
            "13 r\n",
            "14 i\n",
            "15 n\n",
            "16 g\n"
          ],
          "name": "stdout"
        }
      ]
    },
    {
      "cell_type": "code",
      "metadata": {
        "colab": {
          "base_uri": "https://localhost:8080/"
        },
        "id": "F-5SZHxd3Lz1",
        "outputId": "391147f5-1e21-485e-a5dc-6f25bf01fa65"
      },
      "source": [
        "for i, item in enumerate(range(10)):\n",
        "    print(i, item)"
      ],
      "execution_count": 10,
      "outputs": [
        {
          "output_type": "stream",
          "text": [
            "0 0\n",
            "1 1\n",
            "2 2\n",
            "3 3\n",
            "4 4\n",
            "5 5\n",
            "6 6\n",
            "7 7\n",
            "8 8\n",
            "9 9\n"
          ],
          "name": "stdout"
        }
      ]
    },
    {
      "cell_type": "markdown",
      "metadata": {
        "id": "m9ZeKuqR3L0C"
      },
      "source": [
        "# FIM"
      ]
    },
    {
      "cell_type": "markdown",
      "metadata": {
        "id": "IlVTlr0-3L0D"
      },
      "source": [
        "Interessado(a) em conhecer os cursos e formações da DSA? Confira aqui nosso catálogo de cursos:\n",
        "    \n",
        "https://www.datascienceacademy.com.br/pages/todos-os-cursos-dsa    "
      ]
    },
    {
      "cell_type": "markdown",
      "metadata": {
        "id": "XNogDoQc3L0E"
      },
      "source": [
        "### Obrigado - Data Science Academy - <a href=\"http://facebook.com/dsacademybr\">facebook.com/dsacademybr</a>"
      ]
    }
  ]
}