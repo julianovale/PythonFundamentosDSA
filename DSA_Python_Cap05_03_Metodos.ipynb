{
  "nbformat": 4,
  "nbformat_minor": 0,
  "metadata": {
    "kernelspec": {
      "display_name": "Python 3",
      "language": "python",
      "name": "python3"
    },
    "language_info": {
      "codemirror_mode": {
        "name": "ipython",
        "version": 3
      },
      "file_extension": ".py",
      "mimetype": "text/x-python",
      "name": "python",
      "nbconvert_exporter": "python",
      "pygments_lexer": "ipython3",
      "version": "3.7.6"
    },
    "colab": {
      "name": "DSA-Python-Cap05-03-Metodos.ipynb",
      "provenance": [],
      "include_colab_link": true
    }
  },
  "cells": [
    {
      "cell_type": "markdown",
      "metadata": {
        "id": "view-in-github",
        "colab_type": "text"
      },
      "source": [
        "<a href=\"https://colab.research.google.com/github/julianovale/PythonFundamentosDSA/blob/main/DSA_Python_Cap05_03_Metodos.ipynb\" target=\"_parent\"><img src=\"https://colab.research.google.com/assets/colab-badge.svg\" alt=\"Open In Colab\"/></a>"
      ]
    },
    {
      "cell_type": "markdown",
      "metadata": {
        "id": "Z4ndO_3JhaW7"
      },
      "source": [
        "# <font color='blue'>Data Science Academy - Python Fundamentos - Capítulo 5</font>\n",
        "\n",
        "## Download: http://github.com/dsacademybr"
      ]
    },
    {
      "cell_type": "code",
      "metadata": {
        "id": "A2aMbFmWhaW-",
        "outputId": "082cffa4-bb18-4fb0-dee9-2aa6e38ee22d"
      },
      "source": [
        "# Versão da Linguagem Python\n",
        "from platform import python_version\n",
        "print('Versão da Linguagem Python Usada Neste Jupyter Notebook:', python_version())"
      ],
      "execution_count": null,
      "outputs": [
        {
          "output_type": "stream",
          "text": [
            "Versão da Linguagem Python Usada Neste Jupyter Notebook: 3.7.6\n"
          ],
          "name": "stdout"
        }
      ]
    },
    {
      "cell_type": "markdown",
      "metadata": {
        "id": "MucmyV-7haXA"
      },
      "source": [
        "## Métodos"
      ]
    },
    {
      "cell_type": "code",
      "metadata": {
        "id": "eofFK-5YhaXB"
      },
      "source": [
        "# Criando uma classe chamada Circulo\n",
        "class Circulo():\n",
        "    \n",
        "    # O valor de pi é constante\n",
        "    pi = 3.14\n",
        "\n",
        "    # Quando um objeto desta classe for criado, este método será executado e o valor default do raio será 5.\n",
        "    def __init__(self, raio = 5):\n",
        "        self.raio = raio \n",
        "\n",
        "    # Esse método calcula a área. Self utiliza os atributos deste mesmo objeto\n",
        "    def area(self):\n",
        "        return (self.raio * self.raio) * Circulo.pi\n",
        "\n",
        "    # Método para gerar um novo raio\n",
        "    def setRaio(self, novo_raio):\n",
        "        self.raio = novo_raio\n",
        "\n",
        "    # Método para obter o raio do círculo\n",
        "    def getRaio(self):\n",
        "        return self.raio"
      ],
      "execution_count": 2,
      "outputs": []
    },
    {
      "cell_type": "code",
      "metadata": {
        "id": "FxrUn9X0haXC"
      },
      "source": [
        "# Criando o objeto circ. Uma instância da classe Circulo()\n",
        "circ = Circulo()"
      ],
      "execution_count": 3,
      "outputs": []
    },
    {
      "cell_type": "code",
      "metadata": {
        "colab": {
          "base_uri": "https://localhost:8080/"
        },
        "id": "yHjkcWWRhaXC",
        "outputId": "13c71978-7568-49d0-90fe-e752ceb08aa8"
      },
      "source": [
        "# Executando um método da classe Circulo\n",
        "circ.getRaio()"
      ],
      "execution_count": 4,
      "outputs": [
        {
          "output_type": "execute_result",
          "data": {
            "text/plain": [
              "5"
            ]
          },
          "metadata": {
            "tags": []
          },
          "execution_count": 4
        }
      ]
    },
    {
      "cell_type": "code",
      "metadata": {
        "id": "T4xJOZPfhaXD"
      },
      "source": [
        "# Criando outro objeto chamado circ1. Uma instância da classe Circulo()\n",
        "# Agora sobrescrevendo o valor do atributo\n",
        "circ1 = Circulo(7)"
      ],
      "execution_count": 5,
      "outputs": []
    },
    {
      "cell_type": "code",
      "metadata": {
        "colab": {
          "base_uri": "https://localhost:8080/"
        },
        "id": "6BWqqGHKhaXD",
        "outputId": "e87f1ec8-3bec-494b-9137-41dde46116ac"
      },
      "source": [
        "# Executando um método da classe Circulo\n",
        "circ1.getRaio()"
      ],
      "execution_count": 6,
      "outputs": [
        {
          "output_type": "execute_result",
          "data": {
            "text/plain": [
              "7"
            ]
          },
          "metadata": {
            "tags": []
          },
          "execution_count": 6
        }
      ]
    },
    {
      "cell_type": "code",
      "metadata": {
        "colab": {
          "base_uri": "https://localhost:8080/"
        },
        "id": "WmC_YXoahaXF",
        "outputId": "dfb9258c-dd7c-4434-cd57-9ed4692cd076"
      },
      "source": [
        "# Imprimindo o raio\n",
        "print ('O raio é: ', circ.getRaio())"
      ],
      "execution_count": 7,
      "outputs": [
        {
          "output_type": "stream",
          "text": [
            "O raio é:  5\n"
          ],
          "name": "stdout"
        }
      ]
    },
    {
      "cell_type": "code",
      "metadata": {
        "colab": {
          "base_uri": "https://localhost:8080/"
        },
        "id": "lPwpVdkphaXG",
        "outputId": "8f44b9f8-4989-4d00-8837-de68e52a6151"
      },
      "source": [
        "# Imprimindo a area\n",
        "print('Area igual a: ', circ.area())"
      ],
      "execution_count": 8,
      "outputs": [
        {
          "output_type": "stream",
          "text": [
            "Area igual a:  78.5\n"
          ],
          "name": "stdout"
        }
      ]
    },
    {
      "cell_type": "code",
      "metadata": {
        "id": "FXyzJioPhaXH"
      },
      "source": [
        "# Gerando um novo valor para o raio do círculo\n",
        "circ.setRaio(3)"
      ],
      "execution_count": 9,
      "outputs": []
    },
    {
      "cell_type": "code",
      "metadata": {
        "colab": {
          "base_uri": "https://localhost:8080/"
        },
        "id": "euN5_CrthaXI",
        "outputId": "66734607-8fc3-4d70-a413-2f23cec628f5"
      },
      "source": [
        "# Imprimindo o novo raio\n",
        "print ('Novo raio igual a: ', circ.getRaio())"
      ],
      "execution_count": 10,
      "outputs": [
        {
          "output_type": "stream",
          "text": [
            "Novo raio igual a:  3\n"
          ],
          "name": "stdout"
        }
      ]
    },
    {
      "cell_type": "markdown",
      "metadata": {
        "id": "kdcNR5UlhaXI"
      },
      "source": [
        "# Fim"
      ]
    },
    {
      "cell_type": "markdown",
      "metadata": {
        "id": "HtxyAXm0haXI"
      },
      "source": [
        "Interessado(a) em conhecer os cursos e formações da DSA? Confira aqui nosso catálogo de cursos:\n",
        "    \n",
        "https://www.datascienceacademy.com.br/pages/todos-os-cursos-dsa    "
      ]
    },
    {
      "cell_type": "markdown",
      "metadata": {
        "id": "a-scakFthaXJ"
      },
      "source": [
        "### Obrigado - Data Science Academy - <a href=\"http://facebook.com/dsacademybr\">facebook.com/dsacademybr</a>"
      ]
    }
  ]
}